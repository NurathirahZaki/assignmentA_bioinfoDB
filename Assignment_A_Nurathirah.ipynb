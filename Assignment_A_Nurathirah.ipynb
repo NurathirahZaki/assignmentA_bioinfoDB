{
 "cells": [
  {
   "cell_type": "code",
   "execution_count": 4,
   "metadata": {},
   "outputs": [],
   "source": [
    "import pandas as pd"
   ]
  },
  {
   "cell_type": "code",
   "execution_count": 5,
   "metadata": {},
   "outputs": [
    {
     "data": {
      "text/html": [
       "<div>\n",
       "<style scoped>\n",
       "    .dataframe tbody tr th:only-of-type {\n",
       "        vertical-align: middle;\n",
       "    }\n",
       "\n",
       "    .dataframe tbody tr th {\n",
       "        vertical-align: top;\n",
       "    }\n",
       "\n",
       "    .dataframe thead th {\n",
       "        text-align: right;\n",
       "    }\n",
       "</style>\n",
       "<table border=\"1\" class=\"dataframe\">\n",
       "  <thead>\n",
       "    <tr style=\"text-align: right;\">\n",
       "      <th></th>\n",
       "      <th>Gene ID</th>\n",
       "      <th>Gene Name</th>\n",
       "      <th>Chromosome</th>\n",
       "      <th>Start Position</th>\n",
       "      <th>End Position</th>\n",
       "    </tr>\n",
       "  </thead>\n",
       "  <tbody>\n",
       "    <tr>\n",
       "      <th>0</th>\n",
       "      <td>MEPQFQ9Z</td>\n",
       "      <td>Gene_IWVWK</td>\n",
       "      <td>chr1</td>\n",
       "      <td>761616</td>\n",
       "      <td>1578683</td>\n",
       "    </tr>\n",
       "    <tr>\n",
       "      <th>1</th>\n",
       "      <td>A0EACQ85</td>\n",
       "      <td>Gene_5PEJS</td>\n",
       "      <td>chr17</td>\n",
       "      <td>339598</td>\n",
       "      <td>1081528</td>\n",
       "    </tr>\n",
       "    <tr>\n",
       "      <th>2</th>\n",
       "      <td>HZA08PZ7</td>\n",
       "      <td>Gene_VK419</td>\n",
       "      <td>chr6</td>\n",
       "      <td>60362</td>\n",
       "      <td>1214780</td>\n",
       "    </tr>\n",
       "    <tr>\n",
       "      <th>3</th>\n",
       "      <td>3IBMS02U</td>\n",
       "      <td>Gene_7ZR22</td>\n",
       "      <td>chr9</td>\n",
       "      <td>276649</td>\n",
       "      <td>1577759</td>\n",
       "    </tr>\n",
       "    <tr>\n",
       "      <th>4</th>\n",
       "      <td>WGTF1420</td>\n",
       "      <td>Gene_N7T1C</td>\n",
       "      <td>chr17</td>\n",
       "      <td>45172</td>\n",
       "      <td>1739962</td>\n",
       "    </tr>\n",
       "  </tbody>\n",
       "</table>\n",
       "</div>"
      ],
      "text/plain": [
       "    Gene ID   Gene Name Chromosome  Start Position  End Position\n",
       "0  MEPQFQ9Z  Gene_IWVWK       chr1          761616       1578683\n",
       "1  A0EACQ85  Gene_5PEJS      chr17          339598       1081528\n",
       "2  HZA08PZ7  Gene_VK419       chr6           60362       1214780\n",
       "3  3IBMS02U  Gene_7ZR22       chr9          276649       1577759\n",
       "4  WGTF1420  Gene_N7T1C      chr17           45172       1739962"
      ]
     },
     "execution_count": 5,
     "metadata": {},
     "output_type": "execute_result"
    }
   ],
   "source": [
    "\n",
    "gene_info = pd.read_csv('Gene_Information.csv')\n",
    "gene_info.head()\n"
   ]
  },
  {
   "cell_type": "code",
   "execution_count": 8,
   "metadata": {},
   "outputs": [
    {
     "data": {
      "text/html": [
       "<div>\n",
       "<style scoped>\n",
       "    .dataframe tbody tr th:only-of-type {\n",
       "        vertical-align: middle;\n",
       "    }\n",
       "\n",
       "    .dataframe tbody tr th {\n",
       "        vertical-align: top;\n",
       "    }\n",
       "\n",
       "    .dataframe thead th {\n",
       "        text-align: right;\n",
       "    }\n",
       "</style>\n",
       "<table border=\"1\" class=\"dataframe\">\n",
       "  <thead>\n",
       "    <tr style=\"text-align: right;\">\n",
       "      <th></th>\n",
       "      <th>Sample ID</th>\n",
       "      <th>Patient ID</th>\n",
       "      <th>Collection Date</th>\n",
       "      <th>Condition</th>\n",
       "      <th>Tissue Type</th>\n",
       "    </tr>\n",
       "  </thead>\n",
       "  <tbody>\n",
       "    <tr>\n",
       "      <th>0</th>\n",
       "      <td>BHN1HRQWBL</td>\n",
       "      <td>9UFVLTBI</td>\n",
       "      <td>5/4/2021</td>\n",
       "      <td>Cancer_Type_A</td>\n",
       "      <td>Blood</td>\n",
       "    </tr>\n",
       "    <tr>\n",
       "      <th>1</th>\n",
       "      <td>RO907Y9BQY</td>\n",
       "      <td>C9Z9VD5G</td>\n",
       "      <td>16/7/2021</td>\n",
       "      <td>Cancer_Type_A</td>\n",
       "      <td>Tissue</td>\n",
       "    </tr>\n",
       "    <tr>\n",
       "      <th>2</th>\n",
       "      <td>TYTH27KO5M</td>\n",
       "      <td>RZLYC6NZ</td>\n",
       "      <td>29/6/2022</td>\n",
       "      <td>Cancer_Type_B</td>\n",
       "      <td>Tissue</td>\n",
       "    </tr>\n",
       "    <tr>\n",
       "      <th>3</th>\n",
       "      <td>0LIP0B6TUM</td>\n",
       "      <td>29ULN150</td>\n",
       "      <td>10/4/2022</td>\n",
       "      <td>Cancer_Type_B</td>\n",
       "      <td>Blood</td>\n",
       "    </tr>\n",
       "    <tr>\n",
       "      <th>4</th>\n",
       "      <td>1RE2OFGVP7</td>\n",
       "      <td>Y1WFWH29</td>\n",
       "      <td>29/9/2021</td>\n",
       "      <td>Cancer_Type_B</td>\n",
       "      <td>Tissue</td>\n",
       "    </tr>\n",
       "  </tbody>\n",
       "</table>\n",
       "</div>"
      ],
      "text/plain": [
       "    Sample ID Patient ID Collection Date      Condition Tissue Type\n",
       "0  BHN1HRQWBL   9UFVLTBI        5/4/2021  Cancer_Type_A       Blood\n",
       "1  RO907Y9BQY   C9Z9VD5G       16/7/2021  Cancer_Type_A      Tissue\n",
       "2  TYTH27KO5M   RZLYC6NZ       29/6/2022  Cancer_Type_B      Tissue\n",
       "3  0LIP0B6TUM   29ULN150       10/4/2022  Cancer_Type_B       Blood\n",
       "4  1RE2OFGVP7   Y1WFWH29       29/9/2021  Cancer_Type_B      Tissue"
      ]
     },
     "execution_count": 8,
     "metadata": {},
     "output_type": "execute_result"
    }
   ],
   "source": [
    "\n",
    "sample_info = pd.read_csv('Sample_Information.csv')\n",
    "sample_info.head()"
   ]
  },
  {
   "cell_type": "code",
   "execution_count": 20,
   "metadata": {},
   "outputs": [],
   "source": [
    "from pymongo import MongoClient\n",
    "# Establish connection to MongoDB\n",
    "client = MongoClient(\"mongodb://localhost:27017/\")\n",
    "db = client[\"biotech\"]\n",
    "col = db['expression_data']"
   ]
  },
  {
   "cell_type": "code",
   "execution_count": 21,
   "metadata": {},
   "outputs": [
    {
     "data": {
      "text/html": [
       "<div>\n",
       "<style scoped>\n",
       "    .dataframe tbody tr th:only-of-type {\n",
       "        vertical-align: middle;\n",
       "    }\n",
       "\n",
       "    .dataframe tbody tr th {\n",
       "        vertical-align: top;\n",
       "    }\n",
       "\n",
       "    .dataframe thead th {\n",
       "        text-align: right;\n",
       "    }\n",
       "</style>\n",
       "<table border=\"1\" class=\"dataframe\">\n",
       "  <thead>\n",
       "    <tr style=\"text-align: right;\">\n",
       "      <th></th>\n",
       "      <th>Gene ID</th>\n",
       "      <th>Gene Name</th>\n",
       "      <th>Chromosome</th>\n",
       "      <th>Start Position</th>\n",
       "      <th>End Position</th>\n",
       "    </tr>\n",
       "  </thead>\n",
       "  <tbody>\n",
       "    <tr>\n",
       "      <th>0</th>\n",
       "      <td>MEPQFQ9Z</td>\n",
       "      <td>Gene_IWVWK</td>\n",
       "      <td>chr1</td>\n",
       "      <td>761616</td>\n",
       "      <td>1578683</td>\n",
       "    </tr>\n",
       "    <tr>\n",
       "      <th>1</th>\n",
       "      <td>A0EACQ85</td>\n",
       "      <td>Gene_5PEJS</td>\n",
       "      <td>chr17</td>\n",
       "      <td>339598</td>\n",
       "      <td>1081528</td>\n",
       "    </tr>\n",
       "    <tr>\n",
       "      <th>2</th>\n",
       "      <td>HZA08PZ7</td>\n",
       "      <td>Gene_VK419</td>\n",
       "      <td>chr6</td>\n",
       "      <td>60362</td>\n",
       "      <td>1214780</td>\n",
       "    </tr>\n",
       "    <tr>\n",
       "      <th>3</th>\n",
       "      <td>3IBMS02U</td>\n",
       "      <td>Gene_7ZR22</td>\n",
       "      <td>chr9</td>\n",
       "      <td>276649</td>\n",
       "      <td>1577759</td>\n",
       "    </tr>\n",
       "    <tr>\n",
       "      <th>4</th>\n",
       "      <td>WGTF1420</td>\n",
       "      <td>Gene_N7T1C</td>\n",
       "      <td>chr17</td>\n",
       "      <td>45172</td>\n",
       "      <td>1739962</td>\n",
       "    </tr>\n",
       "  </tbody>\n",
       "</table>\n",
       "</div>"
      ],
      "text/plain": [
       "    Gene ID   Gene Name Chromosome  Start Position  End Position\n",
       "0  MEPQFQ9Z  Gene_IWVWK       chr1          761616       1578683\n",
       "1  A0EACQ85  Gene_5PEJS      chr17          339598       1081528\n",
       "2  HZA08PZ7  Gene_VK419       chr6           60362       1214780\n",
       "3  3IBMS02U  Gene_7ZR22       chr9          276649       1577759\n",
       "4  WGTF1420  Gene_N7T1C      chr17           45172       1739962"
      ]
     },
     "execution_count": 21,
     "metadata": {},
     "output_type": "execute_result"
    }
   ],
   "source": [
    "gene_info.head()"
   ]
  },
  {
   "cell_type": "code",
   "execution_count": 22,
   "metadata": {},
   "outputs": [],
   "source": [
    "gene_info_dict = gene_info.to_dict(orient='records')"
   ]
  },
  {
   "cell_type": "code",
   "execution_count": 23,
   "metadata": {},
   "outputs": [
    {
     "data": {
      "text/plain": [
       "{'Gene ID': 'MEPQFQ9Z',\n",
       " 'Gene Name': 'Gene_IWVWK',\n",
       " 'Chromosome': 'chr1',\n",
       " 'Start Position': 761616,\n",
       " 'End Position': 1578683}"
      ]
     },
     "execution_count": 23,
     "metadata": {},
     "output_type": "execute_result"
    }
   ],
   "source": [
    "gene_info_dict[0]"
   ]
  },
  {
   "cell_type": "code",
   "execution_count": 24,
   "metadata": {},
   "outputs": [
    {
     "data": {
      "text/plain": [
       "InsertManyResult([ObjectId('66726d02cb5a9367e255696e'), ObjectId('66726d02cb5a9367e255696f'), ObjectId('66726d02cb5a9367e2556970'), ObjectId('66726d02cb5a9367e2556971'), ObjectId('66726d02cb5a9367e2556972'), ObjectId('66726d02cb5a9367e2556973'), ObjectId('66726d02cb5a9367e2556974'), ObjectId('66726d02cb5a9367e2556975'), ObjectId('66726d02cb5a9367e2556976'), ObjectId('66726d02cb5a9367e2556977'), ObjectId('66726d02cb5a9367e2556978'), ObjectId('66726d02cb5a9367e2556979'), ObjectId('66726d02cb5a9367e255697a'), ObjectId('66726d02cb5a9367e255697b'), ObjectId('66726d02cb5a9367e255697c'), ObjectId('66726d02cb5a9367e255697d'), ObjectId('66726d02cb5a9367e255697e'), ObjectId('66726d02cb5a9367e255697f'), ObjectId('66726d02cb5a9367e2556980'), ObjectId('66726d02cb5a9367e2556981'), ObjectId('66726d02cb5a9367e2556982'), ObjectId('66726d02cb5a9367e2556983'), ObjectId('66726d02cb5a9367e2556984'), ObjectId('66726d02cb5a9367e2556985'), ObjectId('66726d02cb5a9367e2556986'), ObjectId('66726d02cb5a9367e2556987'), ObjectId('66726d02cb5a9367e2556988'), ObjectId('66726d02cb5a9367e2556989'), ObjectId('66726d02cb5a9367e255698a'), ObjectId('66726d02cb5a9367e255698b'), ObjectId('66726d02cb5a9367e255698c'), ObjectId('66726d02cb5a9367e255698d'), ObjectId('66726d02cb5a9367e255698e'), ObjectId('66726d02cb5a9367e255698f'), ObjectId('66726d02cb5a9367e2556990'), ObjectId('66726d02cb5a9367e2556991'), ObjectId('66726d02cb5a9367e2556992'), ObjectId('66726d02cb5a9367e2556993'), ObjectId('66726d02cb5a9367e2556994'), ObjectId('66726d02cb5a9367e2556995'), ObjectId('66726d02cb5a9367e2556996'), ObjectId('66726d02cb5a9367e2556997'), ObjectId('66726d02cb5a9367e2556998'), ObjectId('66726d02cb5a9367e2556999'), ObjectId('66726d02cb5a9367e255699a'), ObjectId('66726d02cb5a9367e255699b'), ObjectId('66726d02cb5a9367e255699c'), ObjectId('66726d02cb5a9367e255699d'), ObjectId('66726d02cb5a9367e255699e'), ObjectId('66726d02cb5a9367e255699f')], acknowledged=True)"
      ]
     },
     "execution_count": 24,
     "metadata": {},
     "output_type": "execute_result"
    }
   ],
   "source": [
    "col.insert_many(gene_info_dict)"
   ]
  },
  {
   "cell_type": "markdown",
   "metadata": {},
   "source": [
    "# Expression Data"
   ]
  },
  {
   "cell_type": "code",
   "execution_count": 25,
   "metadata": {},
   "outputs": [
    {
     "data": {
      "text/html": [
       "<div>\n",
       "<style scoped>\n",
       "    .dataframe tbody tr th:only-of-type {\n",
       "        vertical-align: middle;\n",
       "    }\n",
       "\n",
       "    .dataframe tbody tr th {\n",
       "        vertical-align: top;\n",
       "    }\n",
       "\n",
       "    .dataframe thead th {\n",
       "        text-align: right;\n",
       "    }\n",
       "</style>\n",
       "<table border=\"1\" class=\"dataframe\">\n",
       "  <thead>\n",
       "    <tr style=\"text-align: right;\">\n",
       "      <th></th>\n",
       "      <th>Sample ID</th>\n",
       "      <th>Gene ID</th>\n",
       "      <th>Expression Level</th>\n",
       "      <th>Condition</th>\n",
       "    </tr>\n",
       "  </thead>\n",
       "  <tbody>\n",
       "    <tr>\n",
       "      <th>0</th>\n",
       "      <td>BHN1HRQWBL</td>\n",
       "      <td>MEPQFQ9Z</td>\n",
       "      <td>91.83</td>\n",
       "      <td>Cancer_Type_A</td>\n",
       "    </tr>\n",
       "    <tr>\n",
       "      <th>1</th>\n",
       "      <td>RO907Y9BQY</td>\n",
       "      <td>MEPQFQ9Z</td>\n",
       "      <td>85.36</td>\n",
       "      <td>Cancer_Type_A</td>\n",
       "    </tr>\n",
       "    <tr>\n",
       "      <th>2</th>\n",
       "      <td>TYTH27KO5M</td>\n",
       "      <td>MEPQFQ9Z</td>\n",
       "      <td>15.98</td>\n",
       "      <td>Cancer_Type_B</td>\n",
       "    </tr>\n",
       "    <tr>\n",
       "      <th>3</th>\n",
       "      <td>0LIP0B6TUM</td>\n",
       "      <td>MEPQFQ9Z</td>\n",
       "      <td>79.16</td>\n",
       "      <td>Cancer_Type_B</td>\n",
       "    </tr>\n",
       "    <tr>\n",
       "      <th>4</th>\n",
       "      <td>1RE2OFGVP7</td>\n",
       "      <td>MEPQFQ9Z</td>\n",
       "      <td>87.53</td>\n",
       "      <td>Cancer_Type_B</td>\n",
       "    </tr>\n",
       "  </tbody>\n",
       "</table>\n",
       "</div>"
      ],
      "text/plain": [
       "    Sample ID   Gene ID  Expression Level      Condition\n",
       "0  BHN1HRQWBL  MEPQFQ9Z             91.83  Cancer_Type_A\n",
       "1  RO907Y9BQY  MEPQFQ9Z             85.36  Cancer_Type_A\n",
       "2  TYTH27KO5M  MEPQFQ9Z             15.98  Cancer_Type_B\n",
       "3  0LIP0B6TUM  MEPQFQ9Z             79.16  Cancer_Type_B\n",
       "4  1RE2OFGVP7  MEPQFQ9Z             87.53  Cancer_Type_B"
      ]
     },
     "execution_count": 25,
     "metadata": {},
     "output_type": "execute_result"
    }
   ],
   "source": [
    "expression_data = pd.read_csv('Expression_Data.csv')\n",
    "expression_data.head()"
   ]
  },
  {
   "cell_type": "code",
   "execution_count": 26,
   "metadata": {},
   "outputs": [],
   "source": [
    "expression_data_dict = expression_data.to_dict(orient='records')"
   ]
  },
  {
   "cell_type": "code",
   "execution_count": 27,
   "metadata": {},
   "outputs": [
    {
     "data": {
      "text/plain": [
       "{'Sample ID': 'BHN1HRQWBL',\n",
       " 'Gene ID': 'MEPQFQ9Z',\n",
       " 'Expression Level': 91.83,\n",
       " 'Condition': 'Cancer_Type_A'}"
      ]
     },
     "execution_count": 27,
     "metadata": {},
     "output_type": "execute_result"
    }
   ],
   "source": [
    "expression_data_dict[0]"
   ]
  },
  {
   "cell_type": "code",
   "execution_count": 28,
   "metadata": {},
   "outputs": [
    {
     "data": {
      "text/plain": [
       "InsertManyResult([ObjectId('66726deecb5a9367e25569a0'), ObjectId('66726deecb5a9367e25569a1'), ObjectId('66726deecb5a9367e25569a2'), ObjectId('66726deecb5a9367e25569a3'), ObjectId('66726deecb5a9367e25569a4'), ObjectId('66726deecb5a9367e25569a5'), ObjectId('66726deecb5a9367e25569a6'), ObjectId('66726deecb5a9367e25569a7'), ObjectId('66726deecb5a9367e25569a8'), ObjectId('66726deecb5a9367e25569a9'), ObjectId('66726deecb5a9367e25569aa'), ObjectId('66726deecb5a9367e25569ab'), ObjectId('66726deecb5a9367e25569ac'), ObjectId('66726deecb5a9367e25569ad'), ObjectId('66726deecb5a9367e25569ae'), ObjectId('66726deecb5a9367e25569af'), ObjectId('66726deecb5a9367e25569b0'), ObjectId('66726deecb5a9367e25569b1'), ObjectId('66726deecb5a9367e25569b2'), ObjectId('66726deecb5a9367e25569b3'), ObjectId('66726deecb5a9367e25569b4'), ObjectId('66726deecb5a9367e25569b5'), ObjectId('66726deecb5a9367e25569b6'), ObjectId('66726deecb5a9367e25569b7'), ObjectId('66726deecb5a9367e25569b8'), ObjectId('66726deecb5a9367e25569b9'), ObjectId('66726deecb5a9367e25569ba'), ObjectId('66726deecb5a9367e25569bb'), ObjectId('66726deecb5a9367e25569bc'), ObjectId('66726deecb5a9367e25569bd'), ObjectId('66726deecb5a9367e25569be'), ObjectId('66726deecb5a9367e25569bf'), ObjectId('66726deecb5a9367e25569c0'), ObjectId('66726deecb5a9367e25569c1'), ObjectId('66726deecb5a9367e25569c2'), ObjectId('66726deecb5a9367e25569c3'), ObjectId('66726deecb5a9367e25569c4'), ObjectId('66726deecb5a9367e25569c5'), ObjectId('66726deecb5a9367e25569c6'), ObjectId('66726deecb5a9367e25569c7'), ObjectId('66726deecb5a9367e25569c8'), ObjectId('66726deecb5a9367e25569c9'), ObjectId('66726deecb5a9367e25569ca'), ObjectId('66726deecb5a9367e25569cb'), ObjectId('66726deecb5a9367e25569cc'), ObjectId('66726deecb5a9367e25569cd'), ObjectId('66726deecb5a9367e25569ce'), ObjectId('66726deecb5a9367e25569cf'), ObjectId('66726deecb5a9367e25569d0'), ObjectId('66726deecb5a9367e25569d1'), ObjectId('66726deecb5a9367e25569d2'), ObjectId('66726deecb5a9367e25569d3'), ObjectId('66726deecb5a9367e25569d4'), ObjectId('66726deecb5a9367e25569d5'), ObjectId('66726deecb5a9367e25569d6'), ObjectId('66726deecb5a9367e25569d7'), ObjectId('66726deecb5a9367e25569d8'), ObjectId('66726deecb5a9367e25569d9'), ObjectId('66726deecb5a9367e25569da'), ObjectId('66726deecb5a9367e25569db'), ObjectId('66726deecb5a9367e25569dc'), ObjectId('66726deecb5a9367e25569dd'), ObjectId('66726deecb5a9367e25569de'), ObjectId('66726deecb5a9367e25569df'), ObjectId('66726deecb5a9367e25569e0'), ObjectId('66726deecb5a9367e25569e1'), ObjectId('66726deecb5a9367e25569e2'), ObjectId('66726deecb5a9367e25569e3'), ObjectId('66726deecb5a9367e25569e4'), ObjectId('66726deecb5a9367e25569e5'), ObjectId('66726deecb5a9367e25569e6'), ObjectId('66726deecb5a9367e25569e7'), ObjectId('66726deecb5a9367e25569e8'), ObjectId('66726deecb5a9367e25569e9'), ObjectId('66726deecb5a9367e25569ea'), ObjectId('66726deecb5a9367e25569eb'), ObjectId('66726deecb5a9367e25569ec'), ObjectId('66726deecb5a9367e25569ed'), ObjectId('66726deecb5a9367e25569ee'), ObjectId('66726deecb5a9367e25569ef'), ObjectId('66726deecb5a9367e25569f0'), ObjectId('66726deecb5a9367e25569f1'), ObjectId('66726deecb5a9367e25569f2'), ObjectId('66726deecb5a9367e25569f3'), ObjectId('66726deecb5a9367e25569f4'), ObjectId('66726deecb5a9367e25569f5'), ObjectId('66726deecb5a9367e25569f6'), ObjectId('66726deecb5a9367e25569f7'), ObjectId('66726deecb5a9367e25569f8'), ObjectId('66726deecb5a9367e25569f9'), ObjectId('66726deecb5a9367e25569fa'), ObjectId('66726deecb5a9367e25569fb'), ObjectId('66726deecb5a9367e25569fc'), ObjectId('66726deecb5a9367e25569fd'), ObjectId('66726deecb5a9367e25569fe'), ObjectId('66726deecb5a9367e25569ff'), ObjectId('66726deecb5a9367e2556a00'), ObjectId('66726deecb5a9367e2556a01'), ObjectId('66726deecb5a9367e2556a02'), ObjectId('66726deecb5a9367e2556a03'), ObjectId('66726deecb5a9367e2556a04'), ObjectId('66726deecb5a9367e2556a05'), ObjectId('66726deecb5a9367e2556a06'), ObjectId('66726deecb5a9367e2556a07'), ObjectId('66726deecb5a9367e2556a08'), ObjectId('66726deecb5a9367e2556a09'), ObjectId('66726deecb5a9367e2556a0a'), ObjectId('66726deecb5a9367e2556a0b'), ObjectId('66726deecb5a9367e2556a0c'), ObjectId('66726deecb5a9367e2556a0d'), ObjectId('66726deecb5a9367e2556a0e'), ObjectId('66726deecb5a9367e2556a0f'), ObjectId('66726deecb5a9367e2556a10'), ObjectId('66726deecb5a9367e2556a11'), ObjectId('66726deecb5a9367e2556a12'), ObjectId('66726deecb5a9367e2556a13'), ObjectId('66726deecb5a9367e2556a14'), ObjectId('66726deecb5a9367e2556a15'), ObjectId('66726deecb5a9367e2556a16'), ObjectId('66726deecb5a9367e2556a17'), ObjectId('66726deecb5a9367e2556a18'), ObjectId('66726deecb5a9367e2556a19'), ObjectId('66726deecb5a9367e2556a1a'), ObjectId('66726deecb5a9367e2556a1b'), ObjectId('66726deecb5a9367e2556a1c'), ObjectId('66726deecb5a9367e2556a1d'), ObjectId('66726deecb5a9367e2556a1e'), ObjectId('66726deecb5a9367e2556a1f'), ObjectId('66726deecb5a9367e2556a20'), ObjectId('66726deecb5a9367e2556a21'), ObjectId('66726deecb5a9367e2556a22'), ObjectId('66726deecb5a9367e2556a23'), ObjectId('66726deecb5a9367e2556a24'), ObjectId('66726deecb5a9367e2556a25'), ObjectId('66726deecb5a9367e2556a26'), ObjectId('66726deecb5a9367e2556a27'), ObjectId('66726deecb5a9367e2556a28'), ObjectId('66726deecb5a9367e2556a29'), ObjectId('66726deecb5a9367e2556a2a'), ObjectId('66726deecb5a9367e2556a2b'), ObjectId('66726deecb5a9367e2556a2c'), ObjectId('66726deecb5a9367e2556a2d'), ObjectId('66726deecb5a9367e2556a2e'), ObjectId('66726deecb5a9367e2556a2f'), ObjectId('66726deecb5a9367e2556a30'), ObjectId('66726deecb5a9367e2556a31'), ObjectId('66726deecb5a9367e2556a32'), ObjectId('66726deecb5a9367e2556a33'), ObjectId('66726deecb5a9367e2556a34'), ObjectId('66726deecb5a9367e2556a35'), ObjectId('66726deecb5a9367e2556a36'), ObjectId('66726deecb5a9367e2556a37'), ObjectId('66726deecb5a9367e2556a38'), ObjectId('66726deecb5a9367e2556a39'), ObjectId('66726deecb5a9367e2556a3a'), ObjectId('66726deecb5a9367e2556a3b'), ObjectId('66726deecb5a9367e2556a3c'), ObjectId('66726deecb5a9367e2556a3d'), ObjectId('66726deecb5a9367e2556a3e'), ObjectId('66726deecb5a9367e2556a3f'), ObjectId('66726deecb5a9367e2556a40'), ObjectId('66726deecb5a9367e2556a41'), ObjectId('66726deecb5a9367e2556a42'), ObjectId('66726deecb5a9367e2556a43'), ObjectId('66726deecb5a9367e2556a44'), ObjectId('66726deecb5a9367e2556a45'), ObjectId('66726deecb5a9367e2556a46'), ObjectId('66726deecb5a9367e2556a47'), ObjectId('66726deecb5a9367e2556a48'), ObjectId('66726deecb5a9367e2556a49'), ObjectId('66726deecb5a9367e2556a4a'), ObjectId('66726deecb5a9367e2556a4b'), ObjectId('66726deecb5a9367e2556a4c'), ObjectId('66726deecb5a9367e2556a4d'), ObjectId('66726deecb5a9367e2556a4e'), ObjectId('66726deecb5a9367e2556a4f'), ObjectId('66726deecb5a9367e2556a50'), ObjectId('66726deecb5a9367e2556a51'), ObjectId('66726deecb5a9367e2556a52'), ObjectId('66726deecb5a9367e2556a53'), ObjectId('66726deecb5a9367e2556a54'), ObjectId('66726deecb5a9367e2556a55'), ObjectId('66726deecb5a9367e2556a56'), ObjectId('66726deecb5a9367e2556a57'), ObjectId('66726deecb5a9367e2556a58'), ObjectId('66726deecb5a9367e2556a59'), ObjectId('66726deecb5a9367e2556a5a'), ObjectId('66726deecb5a9367e2556a5b'), ObjectId('66726deecb5a9367e2556a5c'), ObjectId('66726deecb5a9367e2556a5d'), ObjectId('66726deecb5a9367e2556a5e'), ObjectId('66726deecb5a9367e2556a5f'), ObjectId('66726deecb5a9367e2556a60'), ObjectId('66726deecb5a9367e2556a61'), ObjectId('66726deecb5a9367e2556a62'), ObjectId('66726deecb5a9367e2556a63'), ObjectId('66726deecb5a9367e2556a64'), ObjectId('66726deecb5a9367e2556a65'), ObjectId('66726deecb5a9367e2556a66'), ObjectId('66726deecb5a9367e2556a67'), ObjectId('66726deecb5a9367e2556a68'), ObjectId('66726deecb5a9367e2556a69'), ObjectId('66726deecb5a9367e2556a6a'), ObjectId('66726deecb5a9367e2556a6b'), ObjectId('66726deecb5a9367e2556a6c'), ObjectId('66726deecb5a9367e2556a6d'), ObjectId('66726deecb5a9367e2556a6e'), ObjectId('66726deecb5a9367e2556a6f'), ObjectId('66726deecb5a9367e2556a70'), ObjectId('66726deecb5a9367e2556a71'), ObjectId('66726deecb5a9367e2556a72'), ObjectId('66726deecb5a9367e2556a73'), ObjectId('66726deecb5a9367e2556a74'), ObjectId('66726deecb5a9367e2556a75'), ObjectId('66726deecb5a9367e2556a76'), ObjectId('66726deecb5a9367e2556a77'), ObjectId('66726deecb5a9367e2556a78'), ObjectId('66726deecb5a9367e2556a79'), ObjectId('66726deecb5a9367e2556a7a'), ObjectId('66726deecb5a9367e2556a7b'), ObjectId('66726deecb5a9367e2556a7c'), ObjectId('66726deecb5a9367e2556a7d'), ObjectId('66726deecb5a9367e2556a7e'), ObjectId('66726deecb5a9367e2556a7f'), ObjectId('66726deecb5a9367e2556a80'), ObjectId('66726deecb5a9367e2556a81'), ObjectId('66726deecb5a9367e2556a82'), ObjectId('66726deecb5a9367e2556a83'), ObjectId('66726deecb5a9367e2556a84'), ObjectId('66726deecb5a9367e2556a85'), ObjectId('66726deecb5a9367e2556a86'), ObjectId('66726deecb5a9367e2556a87'), ObjectId('66726deecb5a9367e2556a88'), ObjectId('66726deecb5a9367e2556a89'), ObjectId('66726deecb5a9367e2556a8a'), ObjectId('66726deecb5a9367e2556a8b'), ObjectId('66726deecb5a9367e2556a8c'), ObjectId('66726deecb5a9367e2556a8d'), ObjectId('66726deecb5a9367e2556a8e'), ObjectId('66726deecb5a9367e2556a8f'), ObjectId('66726deecb5a9367e2556a90'), ObjectId('66726deecb5a9367e2556a91'), ObjectId('66726deecb5a9367e2556a92'), ObjectId('66726deecb5a9367e2556a93'), ObjectId('66726deecb5a9367e2556a94'), ObjectId('66726deecb5a9367e2556a95'), ObjectId('66726deecb5a9367e2556a96'), ObjectId('66726deecb5a9367e2556a97'), ObjectId('66726deecb5a9367e2556a98'), ObjectId('66726deecb5a9367e2556a99'), ObjectId('66726deecb5a9367e2556a9a'), ObjectId('66726deecb5a9367e2556a9b'), ObjectId('66726deecb5a9367e2556a9c'), ObjectId('66726deecb5a9367e2556a9d'), ObjectId('66726deecb5a9367e2556a9e'), ObjectId('66726deecb5a9367e2556a9f'), ObjectId('66726deecb5a9367e2556aa0'), ObjectId('66726deecb5a9367e2556aa1'), ObjectId('66726deecb5a9367e2556aa2'), ObjectId('66726deecb5a9367e2556aa3'), ObjectId('66726deecb5a9367e2556aa4'), ObjectId('66726deecb5a9367e2556aa5'), ObjectId('66726deecb5a9367e2556aa6'), ObjectId('66726deecb5a9367e2556aa7'), ObjectId('66726deecb5a9367e2556aa8'), ObjectId('66726deecb5a9367e2556aa9'), ObjectId('66726deecb5a9367e2556aaa'), ObjectId('66726deecb5a9367e2556aab'), ObjectId('66726deecb5a9367e2556aac'), ObjectId('66726deecb5a9367e2556aad'), ObjectId('66726deecb5a9367e2556aae'), ObjectId('66726deecb5a9367e2556aaf'), ObjectId('66726deecb5a9367e2556ab0'), ObjectId('66726deecb5a9367e2556ab1'), ObjectId('66726deecb5a9367e2556ab2'), ObjectId('66726deecb5a9367e2556ab3'), ObjectId('66726deecb5a9367e2556ab4'), ObjectId('66726deecb5a9367e2556ab5'), ObjectId('66726deecb5a9367e2556ab6'), ObjectId('66726deecb5a9367e2556ab7'), ObjectId('66726deecb5a9367e2556ab8'), ObjectId('66726deecb5a9367e2556ab9'), ObjectId('66726deecb5a9367e2556aba'), ObjectId('66726deecb5a9367e2556abb'), ObjectId('66726deecb5a9367e2556abc'), ObjectId('66726deecb5a9367e2556abd'), ObjectId('66726deecb5a9367e2556abe'), ObjectId('66726deecb5a9367e2556abf'), ObjectId('66726deecb5a9367e2556ac0'), ObjectId('66726deecb5a9367e2556ac1'), ObjectId('66726deecb5a9367e2556ac2'), ObjectId('66726deecb5a9367e2556ac3'), ObjectId('66726deecb5a9367e2556ac4'), ObjectId('66726deecb5a9367e2556ac5'), ObjectId('66726deecb5a9367e2556ac6'), ObjectId('66726deecb5a9367e2556ac7'), ObjectId('66726deecb5a9367e2556ac8'), ObjectId('66726deecb5a9367e2556ac9'), ObjectId('66726deecb5a9367e2556aca'), ObjectId('66726deecb5a9367e2556acb'), ObjectId('66726deecb5a9367e2556acc'), ObjectId('66726deecb5a9367e2556acd'), ObjectId('66726deecb5a9367e2556ace'), ObjectId('66726deecb5a9367e2556acf'), ObjectId('66726deecb5a9367e2556ad0'), ObjectId('66726deecb5a9367e2556ad1'), ObjectId('66726deecb5a9367e2556ad2'), ObjectId('66726deecb5a9367e2556ad3'), ObjectId('66726deecb5a9367e2556ad4'), ObjectId('66726deecb5a9367e2556ad5'), ObjectId('66726deecb5a9367e2556ad6'), ObjectId('66726deecb5a9367e2556ad7'), ObjectId('66726deecb5a9367e2556ad8'), ObjectId('66726deecb5a9367e2556ad9'), ObjectId('66726deecb5a9367e2556ada'), ObjectId('66726deecb5a9367e2556adb'), ObjectId('66726deecb5a9367e2556adc'), ObjectId('66726deecb5a9367e2556add'), ObjectId('66726deecb5a9367e2556ade'), ObjectId('66726deecb5a9367e2556adf'), ObjectId('66726deecb5a9367e2556ae0'), ObjectId('66726deecb5a9367e2556ae1'), ObjectId('66726deecb5a9367e2556ae2'), ObjectId('66726deecb5a9367e2556ae3'), ObjectId('66726deecb5a9367e2556ae4'), ObjectId('66726deecb5a9367e2556ae5'), ObjectId('66726deecb5a9367e2556ae6'), ObjectId('66726deecb5a9367e2556ae7'), ObjectId('66726deecb5a9367e2556ae8'), ObjectId('66726deecb5a9367e2556ae9'), ObjectId('66726deecb5a9367e2556aea'), ObjectId('66726deecb5a9367e2556aeb'), ObjectId('66726deecb5a9367e2556aec'), ObjectId('66726deecb5a9367e2556aed'), ObjectId('66726deecb5a9367e2556aee'), ObjectId('66726deecb5a9367e2556aef'), ObjectId('66726deecb5a9367e2556af0'), ObjectId('66726deecb5a9367e2556af1'), ObjectId('66726deecb5a9367e2556af2'), ObjectId('66726deecb5a9367e2556af3'), ObjectId('66726deecb5a9367e2556af4'), ObjectId('66726deecb5a9367e2556af5'), ObjectId('66726deecb5a9367e2556af6'), ObjectId('66726deecb5a9367e2556af7'), ObjectId('66726deecb5a9367e2556af8'), ObjectId('66726deecb5a9367e2556af9'), ObjectId('66726deecb5a9367e2556afa'), ObjectId('66726deecb5a9367e2556afb'), ObjectId('66726deecb5a9367e2556afc'), ObjectId('66726deecb5a9367e2556afd'), ObjectId('66726deecb5a9367e2556afe'), ObjectId('66726deecb5a9367e2556aff'), ObjectId('66726deecb5a9367e2556b00'), ObjectId('66726deecb5a9367e2556b01'), ObjectId('66726deecb5a9367e2556b02'), ObjectId('66726deecb5a9367e2556b03'), ObjectId('66726deecb5a9367e2556b04'), ObjectId('66726deecb5a9367e2556b05'), ObjectId('66726deecb5a9367e2556b06'), ObjectId('66726deecb5a9367e2556b07'), ObjectId('66726deecb5a9367e2556b08'), ObjectId('66726deecb5a9367e2556b09'), ObjectId('66726deecb5a9367e2556b0a'), ObjectId('66726deecb5a9367e2556b0b'), ObjectId('66726deecb5a9367e2556b0c'), ObjectId('66726deecb5a9367e2556b0d'), ObjectId('66726deecb5a9367e2556b0e'), ObjectId('66726deecb5a9367e2556b0f'), ObjectId('66726deecb5a9367e2556b10'), ObjectId('66726deecb5a9367e2556b11'), ObjectId('66726deecb5a9367e2556b12'), ObjectId('66726deecb5a9367e2556b13'), ObjectId('66726deecb5a9367e2556b14'), ObjectId('66726deecb5a9367e2556b15'), ObjectId('66726deecb5a9367e2556b16'), ObjectId('66726deecb5a9367e2556b17'), ObjectId('66726deecb5a9367e2556b18'), ObjectId('66726deecb5a9367e2556b19'), ObjectId('66726deecb5a9367e2556b1a'), ObjectId('66726deecb5a9367e2556b1b'), ObjectId('66726deecb5a9367e2556b1c'), ObjectId('66726deecb5a9367e2556b1d'), ObjectId('66726deecb5a9367e2556b1e'), ObjectId('66726deecb5a9367e2556b1f'), ObjectId('66726deecb5a9367e2556b20'), ObjectId('66726deecb5a9367e2556b21'), ObjectId('66726deecb5a9367e2556b22'), ObjectId('66726deecb5a9367e2556b23'), ObjectId('66726deecb5a9367e2556b24'), ObjectId('66726deecb5a9367e2556b25'), ObjectId('66726deecb5a9367e2556b26'), ObjectId('66726deecb5a9367e2556b27'), ObjectId('66726deecb5a9367e2556b28'), ObjectId('66726deecb5a9367e2556b29'), ObjectId('66726deecb5a9367e2556b2a'), ObjectId('66726deecb5a9367e2556b2b'), ObjectId('66726deecb5a9367e2556b2c'), ObjectId('66726deecb5a9367e2556b2d'), ObjectId('66726deecb5a9367e2556b2e'), ObjectId('66726deecb5a9367e2556b2f'), ObjectId('66726deecb5a9367e2556b30'), ObjectId('66726deecb5a9367e2556b31'), ObjectId('66726deecb5a9367e2556b32'), ObjectId('66726deecb5a9367e2556b33'), ObjectId('66726deecb5a9367e2556b34'), ObjectId('66726deecb5a9367e2556b35'), ObjectId('66726deecb5a9367e2556b36'), ObjectId('66726deecb5a9367e2556b37'), ObjectId('66726deecb5a9367e2556b38'), ObjectId('66726deecb5a9367e2556b39'), ObjectId('66726deecb5a9367e2556b3a'), ObjectId('66726deecb5a9367e2556b3b'), ObjectId('66726deecb5a9367e2556b3c'), ObjectId('66726deecb5a9367e2556b3d'), ObjectId('66726deecb5a9367e2556b3e'), ObjectId('66726deecb5a9367e2556b3f'), ObjectId('66726deecb5a9367e2556b40'), ObjectId('66726deecb5a9367e2556b41'), ObjectId('66726deecb5a9367e2556b42'), ObjectId('66726deecb5a9367e2556b43'), ObjectId('66726deecb5a9367e2556b44'), ObjectId('66726deecb5a9367e2556b45'), ObjectId('66726deecb5a9367e2556b46'), ObjectId('66726deecb5a9367e2556b47'), ObjectId('66726deecb5a9367e2556b48'), ObjectId('66726deecb5a9367e2556b49'), ObjectId('66726deecb5a9367e2556b4a'), ObjectId('66726deecb5a9367e2556b4b'), ObjectId('66726deecb5a9367e2556b4c'), ObjectId('66726deecb5a9367e2556b4d'), ObjectId('66726deecb5a9367e2556b4e'), ObjectId('66726deecb5a9367e2556b4f'), ObjectId('66726deecb5a9367e2556b50'), ObjectId('66726deecb5a9367e2556b51'), ObjectId('66726deecb5a9367e2556b52'), ObjectId('66726deecb5a9367e2556b53'), ObjectId('66726deecb5a9367e2556b54'), ObjectId('66726deecb5a9367e2556b55'), ObjectId('66726deecb5a9367e2556b56'), ObjectId('66726deecb5a9367e2556b57'), ObjectId('66726deecb5a9367e2556b58'), ObjectId('66726deecb5a9367e2556b59'), ObjectId('66726deecb5a9367e2556b5a'), ObjectId('66726deecb5a9367e2556b5b'), ObjectId('66726deecb5a9367e2556b5c'), ObjectId('66726deecb5a9367e2556b5d'), ObjectId('66726deecb5a9367e2556b5e'), ObjectId('66726deecb5a9367e2556b5f'), ObjectId('66726deecb5a9367e2556b60'), ObjectId('66726deecb5a9367e2556b61'), ObjectId('66726deecb5a9367e2556b62'), ObjectId('66726deecb5a9367e2556b63'), ObjectId('66726deecb5a9367e2556b64'), ObjectId('66726deecb5a9367e2556b65'), ObjectId('66726deecb5a9367e2556b66'), ObjectId('66726deecb5a9367e2556b67'), ObjectId('66726deecb5a9367e2556b68'), ObjectId('66726deecb5a9367e2556b69'), ObjectId('66726deecb5a9367e2556b6a'), ObjectId('66726deecb5a9367e2556b6b'), ObjectId('66726deecb5a9367e2556b6c'), ObjectId('66726deecb5a9367e2556b6d'), ObjectId('66726deecb5a9367e2556b6e'), ObjectId('66726deecb5a9367e2556b6f'), ObjectId('66726deecb5a9367e2556b70'), ObjectId('66726deecb5a9367e2556b71'), ObjectId('66726deecb5a9367e2556b72'), ObjectId('66726deecb5a9367e2556b73'), ObjectId('66726deecb5a9367e2556b74'), ObjectId('66726deecb5a9367e2556b75'), ObjectId('66726deecb5a9367e2556b76'), ObjectId('66726deecb5a9367e2556b77'), ObjectId('66726deecb5a9367e2556b78'), ObjectId('66726deecb5a9367e2556b79'), ObjectId('66726deecb5a9367e2556b7a'), ObjectId('66726deecb5a9367e2556b7b'), ObjectId('66726deecb5a9367e2556b7c'), ObjectId('66726deecb5a9367e2556b7d'), ObjectId('66726deecb5a9367e2556b7e'), ObjectId('66726deecb5a9367e2556b7f'), ObjectId('66726deecb5a9367e2556b80'), ObjectId('66726deecb5a9367e2556b81'), ObjectId('66726deecb5a9367e2556b82'), ObjectId('66726deecb5a9367e2556b83'), ObjectId('66726deecb5a9367e2556b84'), ObjectId('66726deecb5a9367e2556b85'), ObjectId('66726deecb5a9367e2556b86'), ObjectId('66726deecb5a9367e2556b87'), ObjectId('66726deecb5a9367e2556b88'), ObjectId('66726deecb5a9367e2556b89'), ObjectId('66726deecb5a9367e2556b8a'), ObjectId('66726deecb5a9367e2556b8b'), ObjectId('66726deecb5a9367e2556b8c'), ObjectId('66726deecb5a9367e2556b8d'), ObjectId('66726deecb5a9367e2556b8e'), ObjectId('66726deecb5a9367e2556b8f'), ObjectId('66726deecb5a9367e2556b90'), ObjectId('66726deecb5a9367e2556b91'), ObjectId('66726deecb5a9367e2556b92'), ObjectId('66726deecb5a9367e2556b93'), ObjectId('66726deecb5a9367e2556b94'), ObjectId('66726deecb5a9367e2556b95'), ObjectId('66726deecb5a9367e2556b96'), ObjectId('66726deecb5a9367e2556b97'), ObjectId('66726deecb5a9367e2556b98'), ObjectId('66726deecb5a9367e2556b99'), ObjectId('66726deecb5a9367e2556b9a'), ObjectId('66726deecb5a9367e2556b9b'), ObjectId('66726deecb5a9367e2556b9c'), ObjectId('66726deecb5a9367e2556b9d'), ObjectId('66726deecb5a9367e2556b9e'), ObjectId('66726deecb5a9367e2556b9f'), ObjectId('66726deecb5a9367e2556ba0'), ObjectId('66726deecb5a9367e2556ba1'), ObjectId('66726deecb5a9367e2556ba2'), ObjectId('66726deecb5a9367e2556ba3'), ObjectId('66726deecb5a9367e2556ba4'), ObjectId('66726deecb5a9367e2556ba5'), ObjectId('66726deecb5a9367e2556ba6'), ObjectId('66726deecb5a9367e2556ba7'), ObjectId('66726deecb5a9367e2556ba8'), ObjectId('66726deecb5a9367e2556ba9'), ObjectId('66726deecb5a9367e2556baa'), ObjectId('66726deecb5a9367e2556bab'), ObjectId('66726deecb5a9367e2556bac'), ObjectId('66726deecb5a9367e2556bad'), ObjectId('66726deecb5a9367e2556bae'), ObjectId('66726deecb5a9367e2556baf'), ObjectId('66726deecb5a9367e2556bb0'), ObjectId('66726deecb5a9367e2556bb1'), ObjectId('66726deecb5a9367e2556bb2'), ObjectId('66726deecb5a9367e2556bb3'), ObjectId('66726deecb5a9367e2556bb4'), ObjectId('66726deecb5a9367e2556bb5'), ObjectId('66726deecb5a9367e2556bb6'), ObjectId('66726deecb5a9367e2556bb7'), ObjectId('66726deecb5a9367e2556bb8'), ObjectId('66726deecb5a9367e2556bb9'), ObjectId('66726deecb5a9367e2556bba'), ObjectId('66726deecb5a9367e2556bbb'), ObjectId('66726deecb5a9367e2556bbc'), ObjectId('66726deecb5a9367e2556bbd'), ObjectId('66726deecb5a9367e2556bbe'), ObjectId('66726deecb5a9367e2556bbf'), ObjectId('66726deecb5a9367e2556bc0'), ObjectId('66726deecb5a9367e2556bc1'), ObjectId('66726deecb5a9367e2556bc2'), ObjectId('66726deecb5a9367e2556bc3'), ObjectId('66726deecb5a9367e2556bc4'), ObjectId('66726deecb5a9367e2556bc5'), ObjectId('66726deecb5a9367e2556bc6'), ObjectId('66726deecb5a9367e2556bc7'), ObjectId('66726deecb5a9367e2556bc8'), ObjectId('66726deecb5a9367e2556bc9'), ObjectId('66726deecb5a9367e2556bca'), ObjectId('66726deecb5a9367e2556bcb'), ObjectId('66726deecb5a9367e2556bcc'), ObjectId('66726deecb5a9367e2556bcd'), ObjectId('66726deecb5a9367e2556bce'), ObjectId('66726deecb5a9367e2556bcf'), ObjectId('66726deecb5a9367e2556bd0'), ObjectId('66726deecb5a9367e2556bd1'), ObjectId('66726deecb5a9367e2556bd2'), ObjectId('66726deecb5a9367e2556bd3'), ObjectId('66726deecb5a9367e2556bd4'), ObjectId('66726deecb5a9367e2556bd5'), ObjectId('66726deecb5a9367e2556bd6'), ObjectId('66726deecb5a9367e2556bd7'), ObjectId('66726deecb5a9367e2556bd8'), ObjectId('66726deecb5a9367e2556bd9'), ObjectId('66726deecb5a9367e2556bda'), ObjectId('66726deecb5a9367e2556bdb'), ObjectId('66726deecb5a9367e2556bdc'), ObjectId('66726deecb5a9367e2556bdd'), ObjectId('66726deecb5a9367e2556bde'), ObjectId('66726deecb5a9367e2556bdf'), ObjectId('66726deecb5a9367e2556be0'), ObjectId('66726deecb5a9367e2556be1'), ObjectId('66726deecb5a9367e2556be2'), ObjectId('66726deecb5a9367e2556be3'), ObjectId('66726deecb5a9367e2556be4'), ObjectId('66726deecb5a9367e2556be5'), ObjectId('66726deecb5a9367e2556be6'), ObjectId('66726deecb5a9367e2556be7'), ObjectId('66726deecb5a9367e2556be8'), ObjectId('66726deecb5a9367e2556be9'), ObjectId('66726deecb5a9367e2556bea'), ObjectId('66726deecb5a9367e2556beb'), ObjectId('66726deecb5a9367e2556bec'), ObjectId('66726deecb5a9367e2556bed'), ObjectId('66726deecb5a9367e2556bee'), ObjectId('66726deecb5a9367e2556bef'), ObjectId('66726deecb5a9367e2556bf0'), ObjectId('66726deecb5a9367e2556bf1'), ObjectId('66726deecb5a9367e2556bf2'), ObjectId('66726deecb5a9367e2556bf3'), ObjectId('66726deecb5a9367e2556bf4'), ObjectId('66726deecb5a9367e2556bf5'), ObjectId('66726deecb5a9367e2556bf6'), ObjectId('66726deecb5a9367e2556bf7'), ObjectId('66726deecb5a9367e2556bf8'), ObjectId('66726deecb5a9367e2556bf9'), ObjectId('66726deecb5a9367e2556bfa'), ObjectId('66726deecb5a9367e2556bfb'), ObjectId('66726deecb5a9367e2556bfc'), ObjectId('66726deecb5a9367e2556bfd'), ObjectId('66726deecb5a9367e2556bfe'), ObjectId('66726deecb5a9367e2556bff'), ObjectId('66726deecb5a9367e2556c00'), ObjectId('66726deecb5a9367e2556c01'), ObjectId('66726deecb5a9367e2556c02'), ObjectId('66726deecb5a9367e2556c03'), ObjectId('66726deecb5a9367e2556c04'), ObjectId('66726deecb5a9367e2556c05'), ObjectId('66726deecb5a9367e2556c06'), ObjectId('66726deecb5a9367e2556c07'), ObjectId('66726deecb5a9367e2556c08'), ObjectId('66726deecb5a9367e2556c09'), ObjectId('66726deecb5a9367e2556c0a'), ObjectId('66726deecb5a9367e2556c0b'), ObjectId('66726deecb5a9367e2556c0c'), ObjectId('66726deecb5a9367e2556c0d'), ObjectId('66726deecb5a9367e2556c0e'), ObjectId('66726deecb5a9367e2556c0f'), ObjectId('66726deecb5a9367e2556c10'), ObjectId('66726deecb5a9367e2556c11'), ObjectId('66726deecb5a9367e2556c12'), ObjectId('66726deecb5a9367e2556c13'), ObjectId('66726deecb5a9367e2556c14'), ObjectId('66726deecb5a9367e2556c15'), ObjectId('66726deecb5a9367e2556c16'), ObjectId('66726deecb5a9367e2556c17'), ObjectId('66726deecb5a9367e2556c18'), ObjectId('66726deecb5a9367e2556c19'), ObjectId('66726deecb5a9367e2556c1a'), ObjectId('66726deecb5a9367e2556c1b'), ObjectId('66726deecb5a9367e2556c1c'), ObjectId('66726deecb5a9367e2556c1d'), ObjectId('66726deecb5a9367e2556c1e'), ObjectId('66726deecb5a9367e2556c1f'), ObjectId('66726deecb5a9367e2556c20'), ObjectId('66726deecb5a9367e2556c21'), ObjectId('66726deecb5a9367e2556c22'), ObjectId('66726deecb5a9367e2556c23'), ObjectId('66726deecb5a9367e2556c24'), ObjectId('66726deecb5a9367e2556c25'), ObjectId('66726deecb5a9367e2556c26'), ObjectId('66726deecb5a9367e2556c27'), ObjectId('66726deecb5a9367e2556c28'), ObjectId('66726deecb5a9367e2556c29'), ObjectId('66726deecb5a9367e2556c2a'), ObjectId('66726deecb5a9367e2556c2b'), ObjectId('66726deecb5a9367e2556c2c'), ObjectId('66726deecb5a9367e2556c2d'), ObjectId('66726deecb5a9367e2556c2e'), ObjectId('66726deecb5a9367e2556c2f'), ObjectId('66726deecb5a9367e2556c30'), ObjectId('66726deecb5a9367e2556c31'), ObjectId('66726deecb5a9367e2556c32'), ObjectId('66726deecb5a9367e2556c33'), ObjectId('66726deecb5a9367e2556c34'), ObjectId('66726deecb5a9367e2556c35'), ObjectId('66726deecb5a9367e2556c36'), ObjectId('66726deecb5a9367e2556c37'), ObjectId('66726deecb5a9367e2556c38'), ObjectId('66726deecb5a9367e2556c39'), ObjectId('66726deecb5a9367e2556c3a'), ObjectId('66726deecb5a9367e2556c3b'), ObjectId('66726deecb5a9367e2556c3c'), ObjectId('66726deecb5a9367e2556c3d'), ObjectId('66726deecb5a9367e2556c3e'), ObjectId('66726deecb5a9367e2556c3f'), ObjectId('66726deecb5a9367e2556c40'), ObjectId('66726deecb5a9367e2556c41'), ObjectId('66726deecb5a9367e2556c42'), ObjectId('66726deecb5a9367e2556c43'), ObjectId('66726deecb5a9367e2556c44'), ObjectId('66726deecb5a9367e2556c45'), ObjectId('66726deecb5a9367e2556c46'), ObjectId('66726deecb5a9367e2556c47'), ObjectId('66726deecb5a9367e2556c48'), ObjectId('66726deecb5a9367e2556c49'), ObjectId('66726deecb5a9367e2556c4a'), ObjectId('66726deecb5a9367e2556c4b'), ObjectId('66726deecb5a9367e2556c4c'), ObjectId('66726deecb5a9367e2556c4d'), ObjectId('66726deecb5a9367e2556c4e'), ObjectId('66726deecb5a9367e2556c4f'), ObjectId('66726deecb5a9367e2556c50'), ObjectId('66726deecb5a9367e2556c51'), ObjectId('66726deecb5a9367e2556c52'), ObjectId('66726deecb5a9367e2556c53'), ObjectId('66726deecb5a9367e2556c54'), ObjectId('66726deecb5a9367e2556c55'), ObjectId('66726deecb5a9367e2556c56'), ObjectId('66726deecb5a9367e2556c57'), ObjectId('66726deecb5a9367e2556c58'), ObjectId('66726deecb5a9367e2556c59'), ObjectId('66726deecb5a9367e2556c5a'), ObjectId('66726deecb5a9367e2556c5b'), ObjectId('66726deecb5a9367e2556c5c'), ObjectId('66726deecb5a9367e2556c5d'), ObjectId('66726deecb5a9367e2556c5e'), ObjectId('66726deecb5a9367e2556c5f'), ObjectId('66726deecb5a9367e2556c60'), ObjectId('66726deecb5a9367e2556c61'), ObjectId('66726deecb5a9367e2556c62'), ObjectId('66726deecb5a9367e2556c63'), ObjectId('66726deecb5a9367e2556c64'), ObjectId('66726deecb5a9367e2556c65'), ObjectId('66726deecb5a9367e2556c66'), ObjectId('66726deecb5a9367e2556c67'), ObjectId('66726deecb5a9367e2556c68'), ObjectId('66726deecb5a9367e2556c69'), ObjectId('66726deecb5a9367e2556c6a'), ObjectId('66726deecb5a9367e2556c6b'), ObjectId('66726deecb5a9367e2556c6c'), ObjectId('66726deecb5a9367e2556c6d'), ObjectId('66726deecb5a9367e2556c6e'), ObjectId('66726deecb5a9367e2556c6f'), ObjectId('66726deecb5a9367e2556c70'), ObjectId('66726deecb5a9367e2556c71'), ObjectId('66726deecb5a9367e2556c72'), ObjectId('66726deecb5a9367e2556c73'), ObjectId('66726deecb5a9367e2556c74'), ObjectId('66726deecb5a9367e2556c75'), ObjectId('66726deecb5a9367e2556c76'), ObjectId('66726deecb5a9367e2556c77'), ObjectId('66726deecb5a9367e2556c78'), ObjectId('66726deecb5a9367e2556c79'), ObjectId('66726deecb5a9367e2556c7a'), ObjectId('66726deecb5a9367e2556c7b'), ObjectId('66726deecb5a9367e2556c7c'), ObjectId('66726deecb5a9367e2556c7d'), ObjectId('66726deecb5a9367e2556c7e'), ObjectId('66726deecb5a9367e2556c7f'), ObjectId('66726deecb5a9367e2556c80'), ObjectId('66726deecb5a9367e2556c81'), ObjectId('66726deecb5a9367e2556c82'), ObjectId('66726deecb5a9367e2556c83'), ObjectId('66726deecb5a9367e2556c84'), ObjectId('66726deecb5a9367e2556c85'), ObjectId('66726deecb5a9367e2556c86'), ObjectId('66726deecb5a9367e2556c87'), ObjectId('66726deecb5a9367e2556c88'), ObjectId('66726deecb5a9367e2556c89'), ObjectId('66726deecb5a9367e2556c8a'), ObjectId('66726deecb5a9367e2556c8b'), ObjectId('66726deecb5a9367e2556c8c'), ObjectId('66726deecb5a9367e2556c8d'), ObjectId('66726deecb5a9367e2556c8e'), ObjectId('66726deecb5a9367e2556c8f'), ObjectId('66726deecb5a9367e2556c90'), ObjectId('66726deecb5a9367e2556c91'), ObjectId('66726deecb5a9367e2556c92'), ObjectId('66726deecb5a9367e2556c93'), ObjectId('66726deecb5a9367e2556c94'), ObjectId('66726deecb5a9367e2556c95'), ObjectId('66726deecb5a9367e2556c96'), ObjectId('66726deecb5a9367e2556c97'), ObjectId('66726deecb5a9367e2556c98'), ObjectId('66726deecb5a9367e2556c99'), ObjectId('66726deecb5a9367e2556c9a'), ObjectId('66726deecb5a9367e2556c9b'), ObjectId('66726deecb5a9367e2556c9c'), ObjectId('66726deecb5a9367e2556c9d'), ObjectId('66726deecb5a9367e2556c9e'), ObjectId('66726deecb5a9367e2556c9f'), ObjectId('66726deecb5a9367e2556ca0'), ObjectId('66726deecb5a9367e2556ca1'), ObjectId('66726deecb5a9367e2556ca2'), ObjectId('66726deecb5a9367e2556ca3'), ObjectId('66726deecb5a9367e2556ca4'), ObjectId('66726deecb5a9367e2556ca5'), ObjectId('66726deecb5a9367e2556ca6'), ObjectId('66726deecb5a9367e2556ca7'), ObjectId('66726deecb5a9367e2556ca8'), ObjectId('66726deecb5a9367e2556ca9'), ObjectId('66726deecb5a9367e2556caa'), ObjectId('66726deecb5a9367e2556cab'), ObjectId('66726deecb5a9367e2556cac'), ObjectId('66726deecb5a9367e2556cad'), ObjectId('66726deecb5a9367e2556cae'), ObjectId('66726deecb5a9367e2556caf'), ObjectId('66726deecb5a9367e2556cb0'), ObjectId('66726deecb5a9367e2556cb1'), ObjectId('66726deecb5a9367e2556cb2'), ObjectId('66726deecb5a9367e2556cb3'), ObjectId('66726deecb5a9367e2556cb4'), ObjectId('66726deecb5a9367e2556cb5'), ObjectId('66726deecb5a9367e2556cb6'), ObjectId('66726deecb5a9367e2556cb7'), ObjectId('66726deecb5a9367e2556cb8'), ObjectId('66726deecb5a9367e2556cb9'), ObjectId('66726deecb5a9367e2556cba'), ObjectId('66726deecb5a9367e2556cbb'), ObjectId('66726deecb5a9367e2556cbc'), ObjectId('66726deecb5a9367e2556cbd'), ObjectId('66726deecb5a9367e2556cbe'), ObjectId('66726deecb5a9367e2556cbf'), ObjectId('66726deecb5a9367e2556cc0'), ObjectId('66726deecb5a9367e2556cc1'), ObjectId('66726deecb5a9367e2556cc2'), ObjectId('66726deecb5a9367e2556cc3'), ObjectId('66726deecb5a9367e2556cc4'), ObjectId('66726deecb5a9367e2556cc5'), ObjectId('66726deecb5a9367e2556cc6'), ObjectId('66726deecb5a9367e2556cc7'), ObjectId('66726deecb5a9367e2556cc8'), ObjectId('66726deecb5a9367e2556cc9'), ObjectId('66726deecb5a9367e2556cca'), ObjectId('66726deecb5a9367e2556ccb'), ObjectId('66726deecb5a9367e2556ccc'), ObjectId('66726deecb5a9367e2556ccd'), ObjectId('66726deecb5a9367e2556cce'), ObjectId('66726deecb5a9367e2556ccf'), ObjectId('66726deecb5a9367e2556cd0'), ObjectId('66726deecb5a9367e2556cd1'), ObjectId('66726deecb5a9367e2556cd2'), ObjectId('66726deecb5a9367e2556cd3'), ObjectId('66726deecb5a9367e2556cd4'), ObjectId('66726deecb5a9367e2556cd5'), ObjectId('66726deecb5a9367e2556cd6'), ObjectId('66726deecb5a9367e2556cd7'), ObjectId('66726deecb5a9367e2556cd8'), ObjectId('66726deecb5a9367e2556cd9'), ObjectId('66726deecb5a9367e2556cda'), ObjectId('66726deecb5a9367e2556cdb'), ObjectId('66726deecb5a9367e2556cdc'), ObjectId('66726deecb5a9367e2556cdd'), ObjectId('66726deecb5a9367e2556cde'), ObjectId('66726deecb5a9367e2556cdf'), ObjectId('66726deecb5a9367e2556ce0'), ObjectId('66726deecb5a9367e2556ce1'), ObjectId('66726deecb5a9367e2556ce2'), ObjectId('66726deecb5a9367e2556ce3'), ObjectId('66726deecb5a9367e2556ce4'), ObjectId('66726deecb5a9367e2556ce5'), ObjectId('66726deecb5a9367e2556ce6'), ObjectId('66726deecb5a9367e2556ce7'), ObjectId('66726deecb5a9367e2556ce8'), ObjectId('66726deecb5a9367e2556ce9'), ObjectId('66726deecb5a9367e2556cea'), ObjectId('66726deecb5a9367e2556ceb'), ObjectId('66726deecb5a9367e2556cec'), ObjectId('66726deecb5a9367e2556ced'), ObjectId('66726deecb5a9367e2556cee'), ObjectId('66726deecb5a9367e2556cef'), ObjectId('66726deecb5a9367e2556cf0'), ObjectId('66726deecb5a9367e2556cf1'), ObjectId('66726deecb5a9367e2556cf2'), ObjectId('66726deecb5a9367e2556cf3'), ObjectId('66726deecb5a9367e2556cf4'), ObjectId('66726deecb5a9367e2556cf5'), ObjectId('66726deecb5a9367e2556cf6'), ObjectId('66726deecb5a9367e2556cf7'), ObjectId('66726deecb5a9367e2556cf8'), ObjectId('66726deecb5a9367e2556cf9'), ObjectId('66726deecb5a9367e2556cfa'), ObjectId('66726deecb5a9367e2556cfb'), ObjectId('66726deecb5a9367e2556cfc'), ObjectId('66726deecb5a9367e2556cfd'), ObjectId('66726deecb5a9367e2556cfe'), ObjectId('66726deecb5a9367e2556cff'), ObjectId('66726deecb5a9367e2556d00'), ObjectId('66726deecb5a9367e2556d01'), ObjectId('66726deecb5a9367e2556d02'), ObjectId('66726deecb5a9367e2556d03'), ObjectId('66726deecb5a9367e2556d04'), ObjectId('66726deecb5a9367e2556d05'), ObjectId('66726deecb5a9367e2556d06'), ObjectId('66726deecb5a9367e2556d07'), ObjectId('66726deecb5a9367e2556d08'), ObjectId('66726deecb5a9367e2556d09'), ObjectId('66726deecb5a9367e2556d0a'), ObjectId('66726deecb5a9367e2556d0b'), ObjectId('66726deecb5a9367e2556d0c'), ObjectId('66726deecb5a9367e2556d0d'), ObjectId('66726deecb5a9367e2556d0e'), ObjectId('66726deecb5a9367e2556d0f'), ObjectId('66726deecb5a9367e2556d10'), ObjectId('66726deecb5a9367e2556d11'), ObjectId('66726deecb5a9367e2556d12'), ObjectId('66726deecb5a9367e2556d13'), ObjectId('66726deecb5a9367e2556d14'), ObjectId('66726deecb5a9367e2556d15'), ObjectId('66726deecb5a9367e2556d16'), ObjectId('66726deecb5a9367e2556d17'), ObjectId('66726deecb5a9367e2556d18'), ObjectId('66726deecb5a9367e2556d19'), ObjectId('66726deecb5a9367e2556d1a'), ObjectId('66726deecb5a9367e2556d1b'), ObjectId('66726deecb5a9367e2556d1c'), ObjectId('66726deecb5a9367e2556d1d'), ObjectId('66726deecb5a9367e2556d1e'), ObjectId('66726deecb5a9367e2556d1f'), ObjectId('66726deecb5a9367e2556d20'), ObjectId('66726deecb5a9367e2556d21'), ObjectId('66726deecb5a9367e2556d22'), ObjectId('66726deecb5a9367e2556d23'), ObjectId('66726deecb5a9367e2556d24'), ObjectId('66726deecb5a9367e2556d25'), ObjectId('66726deecb5a9367e2556d26'), ObjectId('66726deecb5a9367e2556d27'), ObjectId('66726deecb5a9367e2556d28'), ObjectId('66726deecb5a9367e2556d29'), ObjectId('66726deecb5a9367e2556d2a'), ObjectId('66726deecb5a9367e2556d2b'), ObjectId('66726deecb5a9367e2556d2c'), ObjectId('66726deecb5a9367e2556d2d'), ObjectId('66726deecb5a9367e2556d2e'), ObjectId('66726deecb5a9367e2556d2f'), ObjectId('66726deecb5a9367e2556d30'), ObjectId('66726deecb5a9367e2556d31'), ObjectId('66726deecb5a9367e2556d32'), ObjectId('66726deecb5a9367e2556d33'), ObjectId('66726deecb5a9367e2556d34'), ObjectId('66726deecb5a9367e2556d35'), ObjectId('66726deecb5a9367e2556d36'), ObjectId('66726deecb5a9367e2556d37'), ObjectId('66726deecb5a9367e2556d38'), ObjectId('66726deecb5a9367e2556d39'), ObjectId('66726deecb5a9367e2556d3a'), ObjectId('66726deecb5a9367e2556d3b'), ObjectId('66726deecb5a9367e2556d3c'), ObjectId('66726deecb5a9367e2556d3d'), ObjectId('66726deecb5a9367e2556d3e'), ObjectId('66726deecb5a9367e2556d3f'), ObjectId('66726deecb5a9367e2556d40'), ObjectId('66726deecb5a9367e2556d41'), ObjectId('66726deecb5a9367e2556d42'), ObjectId('66726deecb5a9367e2556d43'), ObjectId('66726deecb5a9367e2556d44'), ObjectId('66726deecb5a9367e2556d45'), ObjectId('66726deecb5a9367e2556d46'), ObjectId('66726deecb5a9367e2556d47'), ObjectId('66726deecb5a9367e2556d48'), ObjectId('66726deecb5a9367e2556d49'), ObjectId('66726deecb5a9367e2556d4a'), ObjectId('66726deecb5a9367e2556d4b'), ObjectId('66726deecb5a9367e2556d4c'), ObjectId('66726deecb5a9367e2556d4d'), ObjectId('66726deecb5a9367e2556d4e'), ObjectId('66726deecb5a9367e2556d4f'), ObjectId('66726deecb5a9367e2556d50'), ObjectId('66726deecb5a9367e2556d51'), ObjectId('66726deecb5a9367e2556d52'), ObjectId('66726deecb5a9367e2556d53'), ObjectId('66726deecb5a9367e2556d54'), ObjectId('66726deecb5a9367e2556d55'), ObjectId('66726deecb5a9367e2556d56'), ObjectId('66726deecb5a9367e2556d57'), ObjectId('66726deecb5a9367e2556d58'), ObjectId('66726deecb5a9367e2556d59'), ObjectId('66726deecb5a9367e2556d5a'), ObjectId('66726deecb5a9367e2556d5b'), ObjectId('66726deecb5a9367e2556d5c'), ObjectId('66726deecb5a9367e2556d5d'), ObjectId('66726deecb5a9367e2556d5e'), ObjectId('66726deecb5a9367e2556d5f'), ObjectId('66726deecb5a9367e2556d60'), ObjectId('66726deecb5a9367e2556d61'), ObjectId('66726deecb5a9367e2556d62'), ObjectId('66726deecb5a9367e2556d63'), ObjectId('66726deecb5a9367e2556d64'), ObjectId('66726deecb5a9367e2556d65'), ObjectId('66726deecb5a9367e2556d66'), ObjectId('66726deecb5a9367e2556d67'), ObjectId('66726deecb5a9367e2556d68'), ObjectId('66726deecb5a9367e2556d69'), ObjectId('66726deecb5a9367e2556d6a'), ObjectId('66726deecb5a9367e2556d6b'), ObjectId('66726deecb5a9367e2556d6c'), ObjectId('66726deecb5a9367e2556d6d'), ObjectId('66726deecb5a9367e2556d6e'), ObjectId('66726deecb5a9367e2556d6f'), ObjectId('66726deecb5a9367e2556d70'), ObjectId('66726deecb5a9367e2556d71'), ObjectId('66726deecb5a9367e2556d72'), ObjectId('66726deecb5a9367e2556d73'), ObjectId('66726deecb5a9367e2556d74'), ObjectId('66726deecb5a9367e2556d75'), ObjectId('66726deecb5a9367e2556d76'), ObjectId('66726deecb5a9367e2556d77'), ObjectId('66726deecb5a9367e2556d78'), ObjectId('66726deecb5a9367e2556d79'), ObjectId('66726deecb5a9367e2556d7a'), ObjectId('66726deecb5a9367e2556d7b'), ObjectId('66726deecb5a9367e2556d7c'), ObjectId('66726deecb5a9367e2556d7d'), ObjectId('66726deecb5a9367e2556d7e'), ObjectId('66726deecb5a9367e2556d7f'), ObjectId('66726deecb5a9367e2556d80'), ObjectId('66726deecb5a9367e2556d81'), ObjectId('66726deecb5a9367e2556d82'), ObjectId('66726deecb5a9367e2556d83'), ObjectId('66726deecb5a9367e2556d84'), ObjectId('66726deecb5a9367e2556d85'), ObjectId('66726deecb5a9367e2556d86'), ObjectId('66726deecb5a9367e2556d87'), ObjectId('66726deecb5a9367e2556d88'), ObjectId('66726deecb5a9367e2556d89'), ObjectId('66726deecb5a9367e2556d8a'), ObjectId('66726deecb5a9367e2556d8b'), ObjectId('66726deecb5a9367e2556d8c'), ObjectId('66726deecb5a9367e2556d8d'), ObjectId('66726deecb5a9367e2556d8e'), ObjectId('66726deecb5a9367e2556d8f'), ObjectId('66726deecb5a9367e2556d90'), ObjectId('66726deecb5a9367e2556d91'), ObjectId('66726deecb5a9367e2556d92'), ObjectId('66726deecb5a9367e2556d93'), ObjectId('66726deecb5a9367e2556d94'), ObjectId('66726deecb5a9367e2556d95'), ObjectId('66726deecb5a9367e2556d96'), ObjectId('66726deecb5a9367e2556d97'), ObjectId('66726deecb5a9367e2556d98'), ObjectId('66726deecb5a9367e2556d99'), ObjectId('66726deecb5a9367e2556d9a'), ObjectId('66726deecb5a9367e2556d9b'), ObjectId('66726deecb5a9367e2556d9c'), ObjectId('66726deecb5a9367e2556d9d'), ObjectId('66726deecb5a9367e2556d9e'), ObjectId('66726deecb5a9367e2556d9f'), ObjectId('66726deecb5a9367e2556da0'), ObjectId('66726deecb5a9367e2556da1'), ObjectId('66726deecb5a9367e2556da2'), ObjectId('66726deecb5a9367e2556da3'), ObjectId('66726deecb5a9367e2556da4'), ObjectId('66726deecb5a9367e2556da5'), ObjectId('66726deecb5a9367e2556da6'), ObjectId('66726deecb5a9367e2556da7'), ObjectId('66726deecb5a9367e2556da8'), ObjectId('66726deecb5a9367e2556da9'), ObjectId('66726deecb5a9367e2556daa'), ObjectId('66726deecb5a9367e2556dab'), ObjectId('66726deecb5a9367e2556dac'), ObjectId('66726deecb5a9367e2556dad'), ObjectId('66726deecb5a9367e2556dae'), ObjectId('66726deecb5a9367e2556daf'), ObjectId('66726deecb5a9367e2556db0'), ObjectId('66726deecb5a9367e2556db1'), ObjectId('66726deecb5a9367e2556db2'), ObjectId('66726deecb5a9367e2556db3'), ObjectId('66726deecb5a9367e2556db4'), ObjectId('66726deecb5a9367e2556db5'), ObjectId('66726deecb5a9367e2556db6'), ObjectId('66726deecb5a9367e2556db7'), ObjectId('66726deecb5a9367e2556db8'), ObjectId('66726deecb5a9367e2556db9'), ObjectId('66726deecb5a9367e2556dba'), ObjectId('66726deecb5a9367e2556dbb'), ObjectId('66726deecb5a9367e2556dbc'), ObjectId('66726deecb5a9367e2556dbd'), ObjectId('66726deecb5a9367e2556dbe'), ObjectId('66726deecb5a9367e2556dbf'), ObjectId('66726deecb5a9367e2556dc0'), ObjectId('66726deecb5a9367e2556dc1'), ObjectId('66726deecb5a9367e2556dc2'), ObjectId('66726deecb5a9367e2556dc3'), ObjectId('66726deecb5a9367e2556dc4'), ObjectId('66726deecb5a9367e2556dc5'), ObjectId('66726deecb5a9367e2556dc6'), ObjectId('66726deecb5a9367e2556dc7'), ObjectId('66726deecb5a9367e2556dc8'), ObjectId('66726deecb5a9367e2556dc9'), ObjectId('66726deecb5a9367e2556dca'), ObjectId('66726deecb5a9367e2556dcb'), ObjectId('66726deecb5a9367e2556dcc'), ObjectId('66726deecb5a9367e2556dcd'), ObjectId('66726deecb5a9367e2556dce'), ObjectId('66726deecb5a9367e2556dcf'), ObjectId('66726deecb5a9367e2556dd0'), ObjectId('66726deecb5a9367e2556dd1'), ObjectId('66726deecb5a9367e2556dd2'), ObjectId('66726deecb5a9367e2556dd3'), ObjectId('66726deecb5a9367e2556dd4'), ObjectId('66726deecb5a9367e2556dd5'), ObjectId('66726deecb5a9367e2556dd6'), ObjectId('66726deecb5a9367e2556dd7'), ObjectId('66726deecb5a9367e2556dd8'), ObjectId('66726deecb5a9367e2556dd9'), ObjectId('66726deecb5a9367e2556dda'), ObjectId('66726deecb5a9367e2556ddb'), ObjectId('66726deecb5a9367e2556ddc'), ObjectId('66726deecb5a9367e2556ddd'), ObjectId('66726deecb5a9367e2556dde'), ObjectId('66726deecb5a9367e2556ddf'), ObjectId('66726deecb5a9367e2556de0'), ObjectId('66726deecb5a9367e2556de1'), ObjectId('66726deecb5a9367e2556de2'), ObjectId('66726deecb5a9367e2556de3'), ObjectId('66726deecb5a9367e2556de4'), ObjectId('66726deecb5a9367e2556de5'), ObjectId('66726deecb5a9367e2556de6'), ObjectId('66726deecb5a9367e2556de7'), ObjectId('66726deecb5a9367e2556de8'), ObjectId('66726deecb5a9367e2556de9'), ObjectId('66726deecb5a9367e2556dea'), ObjectId('66726deecb5a9367e2556deb'), ObjectId('66726deecb5a9367e2556dec'), ObjectId('66726deecb5a9367e2556ded'), ObjectId('66726deecb5a9367e2556dee'), ObjectId('66726deecb5a9367e2556def'), ObjectId('66726deecb5a9367e2556df0'), ObjectId('66726deecb5a9367e2556df1'), ObjectId('66726deecb5a9367e2556df2'), ObjectId('66726deecb5a9367e2556df3'), ObjectId('66726deecb5a9367e2556df4'), ObjectId('66726deecb5a9367e2556df5'), ObjectId('66726deecb5a9367e2556df6'), ObjectId('66726deecb5a9367e2556df7'), ObjectId('66726deecb5a9367e2556df8'), ObjectId('66726deecb5a9367e2556df9'), ObjectId('66726deecb5a9367e2556dfa'), ObjectId('66726deecb5a9367e2556dfb'), ObjectId('66726deecb5a9367e2556dfc'), ObjectId('66726deecb5a9367e2556dfd'), ObjectId('66726deecb5a9367e2556dfe'), ObjectId('66726deecb5a9367e2556dff'), ObjectId('66726deecb5a9367e2556e00'), ObjectId('66726deecb5a9367e2556e01'), ObjectId('66726deecb5a9367e2556e02'), ObjectId('66726deecb5a9367e2556e03'), ObjectId('66726deecb5a9367e2556e04'), ObjectId('66726deecb5a9367e2556e05'), ObjectId('66726deecb5a9367e2556e06'), ObjectId('66726deecb5a9367e2556e07'), ObjectId('66726deecb5a9367e2556e08'), ObjectId('66726deecb5a9367e2556e09'), ObjectId('66726deecb5a9367e2556e0a'), ObjectId('66726deecb5a9367e2556e0b'), ObjectId('66726deecb5a9367e2556e0c'), ObjectId('66726deecb5a9367e2556e0d'), ObjectId('66726deecb5a9367e2556e0e'), ObjectId('66726deecb5a9367e2556e0f'), ObjectId('66726deecb5a9367e2556e10'), ObjectId('66726deecb5a9367e2556e11'), ObjectId('66726deecb5a9367e2556e12'), ObjectId('66726deecb5a9367e2556e13'), ObjectId('66726deecb5a9367e2556e14'), ObjectId('66726deecb5a9367e2556e15'), ObjectId('66726deecb5a9367e2556e16'), ObjectId('66726deecb5a9367e2556e17'), ObjectId('66726deecb5a9367e2556e18'), ObjectId('66726deecb5a9367e2556e19'), ObjectId('66726deecb5a9367e2556e1a'), ObjectId('66726deecb5a9367e2556e1b'), ObjectId('66726deecb5a9367e2556e1c'), ObjectId('66726deecb5a9367e2556e1d'), ObjectId('66726deecb5a9367e2556e1e'), ObjectId('66726deecb5a9367e2556e1f'), ObjectId('66726deecb5a9367e2556e20'), ObjectId('66726deecb5a9367e2556e21'), ObjectId('66726deecb5a9367e2556e22'), ObjectId('66726deecb5a9367e2556e23'), ObjectId('66726deecb5a9367e2556e24'), ObjectId('66726deecb5a9367e2556e25'), ObjectId('66726deecb5a9367e2556e26'), ObjectId('66726deecb5a9367e2556e27'), ObjectId('66726deecb5a9367e2556e28'), ObjectId('66726deecb5a9367e2556e29'), ObjectId('66726deecb5a9367e2556e2a'), ObjectId('66726deecb5a9367e2556e2b'), ObjectId('66726deecb5a9367e2556e2c'), ObjectId('66726deecb5a9367e2556e2d'), ObjectId('66726deecb5a9367e2556e2e'), ObjectId('66726deecb5a9367e2556e2f'), ObjectId('66726deecb5a9367e2556e30'), ObjectId('66726deecb5a9367e2556e31'), ObjectId('66726deecb5a9367e2556e32'), ObjectId('66726deecb5a9367e2556e33'), ObjectId('66726deecb5a9367e2556e34'), ObjectId('66726deecb5a9367e2556e35'), ObjectId('66726deecb5a9367e2556e36'), ObjectId('66726deecb5a9367e2556e37'), ObjectId('66726deecb5a9367e2556e38'), ObjectId('66726deecb5a9367e2556e39'), ObjectId('66726deecb5a9367e2556e3a'), ObjectId('66726deecb5a9367e2556e3b'), ObjectId('66726deecb5a9367e2556e3c'), ObjectId('66726deecb5a9367e2556e3d'), ObjectId('66726deecb5a9367e2556e3e'), ObjectId('66726deecb5a9367e2556e3f'), ObjectId('66726deecb5a9367e2556e40'), ObjectId('66726deecb5a9367e2556e41'), ObjectId('66726deecb5a9367e2556e42'), ObjectId('66726deecb5a9367e2556e43'), ObjectId('66726deecb5a9367e2556e44'), ObjectId('66726deecb5a9367e2556e45'), ObjectId('66726deecb5a9367e2556e46'), ObjectId('66726deecb5a9367e2556e47'), ObjectId('66726deecb5a9367e2556e48'), ObjectId('66726deecb5a9367e2556e49'), ObjectId('66726deecb5a9367e2556e4a'), ObjectId('66726deecb5a9367e2556e4b'), ObjectId('66726deecb5a9367e2556e4c'), ObjectId('66726deecb5a9367e2556e4d'), ObjectId('66726deecb5a9367e2556e4e'), ObjectId('66726deecb5a9367e2556e4f'), ObjectId('66726deecb5a9367e2556e50'), ObjectId('66726deecb5a9367e2556e51'), ObjectId('66726deecb5a9367e2556e52'), ObjectId('66726deecb5a9367e2556e53'), ObjectId('66726deecb5a9367e2556e54'), ObjectId('66726deecb5a9367e2556e55'), ObjectId('66726deecb5a9367e2556e56'), ObjectId('66726deecb5a9367e2556e57'), ObjectId('66726deecb5a9367e2556e58'), ObjectId('66726deecb5a9367e2556e59'), ObjectId('66726deecb5a9367e2556e5a'), ObjectId('66726deecb5a9367e2556e5b'), ObjectId('66726deecb5a9367e2556e5c'), ObjectId('66726deecb5a9367e2556e5d'), ObjectId('66726deecb5a9367e2556e5e'), ObjectId('66726deecb5a9367e2556e5f'), ObjectId('66726deecb5a9367e2556e60'), ObjectId('66726deecb5a9367e2556e61'), ObjectId('66726deecb5a9367e2556e62'), ObjectId('66726deecb5a9367e2556e63'), ObjectId('66726deecb5a9367e2556e64'), ObjectId('66726deecb5a9367e2556e65'), ObjectId('66726deecb5a9367e2556e66'), ObjectId('66726deecb5a9367e2556e67'), ObjectId('66726deecb5a9367e2556e68'), ObjectId('66726deecb5a9367e2556e69'), ObjectId('66726deecb5a9367e2556e6a'), ObjectId('66726deecb5a9367e2556e6b'), ObjectId('66726deecb5a9367e2556e6c'), ObjectId('66726deecb5a9367e2556e6d'), ObjectId('66726deecb5a9367e2556e6e'), ObjectId('66726deecb5a9367e2556e6f'), ObjectId('66726deecb5a9367e2556e70'), ObjectId('66726deecb5a9367e2556e71'), ObjectId('66726deecb5a9367e2556e72'), ObjectId('66726deecb5a9367e2556e73'), ObjectId('66726deecb5a9367e2556e74'), ObjectId('66726deecb5a9367e2556e75'), ObjectId('66726deecb5a9367e2556e76'), ObjectId('66726deecb5a9367e2556e77'), ObjectId('66726deecb5a9367e2556e78'), ObjectId('66726deecb5a9367e2556e79'), ObjectId('66726deecb5a9367e2556e7a'), ObjectId('66726deecb5a9367e2556e7b'), ObjectId('66726deecb5a9367e2556e7c'), ObjectId('66726deecb5a9367e2556e7d'), ObjectId('66726deecb5a9367e2556e7e'), ObjectId('66726deecb5a9367e2556e7f'), ObjectId('66726deecb5a9367e2556e80'), ObjectId('66726deecb5a9367e2556e81'), ObjectId('66726deecb5a9367e2556e82'), ObjectId('66726deecb5a9367e2556e83'), ObjectId('66726deecb5a9367e2556e84'), ObjectId('66726deecb5a9367e2556e85'), ObjectId('66726deecb5a9367e2556e86'), ObjectId('66726deecb5a9367e2556e87'), ObjectId('66726deecb5a9367e2556e88'), ObjectId('66726deecb5a9367e2556e89'), ObjectId('66726deecb5a9367e2556e8a'), ObjectId('66726deecb5a9367e2556e8b'), ObjectId('66726deecb5a9367e2556e8c'), ObjectId('66726deecb5a9367e2556e8d'), ObjectId('66726deecb5a9367e2556e8e'), ObjectId('66726deecb5a9367e2556e8f'), ObjectId('66726deecb5a9367e2556e90'), ObjectId('66726deecb5a9367e2556e91'), ObjectId('66726deecb5a9367e2556e92'), ObjectId('66726deecb5a9367e2556e93'), ObjectId('66726deecb5a9367e2556e94'), ObjectId('66726deecb5a9367e2556e95'), ObjectId('66726deecb5a9367e2556e96'), ObjectId('66726deecb5a9367e2556e97'), ObjectId('66726deecb5a9367e2556e98'), ObjectId('66726deecb5a9367e2556e99'), ObjectId('66726deecb5a9367e2556e9a'), ObjectId('66726deecb5a9367e2556e9b'), ObjectId('66726deecb5a9367e2556e9c'), ObjectId('66726deecb5a9367e2556e9d'), ObjectId('66726deecb5a9367e2556e9e'), ObjectId('66726deecb5a9367e2556e9f'), ObjectId('66726deecb5a9367e2556ea0'), ObjectId('66726deecb5a9367e2556ea1'), ObjectId('66726deecb5a9367e2556ea2'), ObjectId('66726deecb5a9367e2556ea3'), ObjectId('66726deecb5a9367e2556ea4'), ObjectId('66726deecb5a9367e2556ea5'), ObjectId('66726deecb5a9367e2556ea6'), ObjectId('66726deecb5a9367e2556ea7'), ObjectId('66726deecb5a9367e2556ea8'), ObjectId('66726deecb5a9367e2556ea9'), ObjectId('66726deecb5a9367e2556eaa'), ObjectId('66726deecb5a9367e2556eab'), ObjectId('66726deecb5a9367e2556eac'), ObjectId('66726deecb5a9367e2556ead'), ObjectId('66726deecb5a9367e2556eae'), ObjectId('66726deecb5a9367e2556eaf'), ObjectId('66726deecb5a9367e2556eb0'), ObjectId('66726deecb5a9367e2556eb1'), ObjectId('66726deecb5a9367e2556eb2'), ObjectId('66726deecb5a9367e2556eb3'), ObjectId('66726deecb5a9367e2556eb4'), ObjectId('66726deecb5a9367e2556eb5'), ObjectId('66726deecb5a9367e2556eb6'), ObjectId('66726deecb5a9367e2556eb7'), ObjectId('66726deecb5a9367e2556eb8'), ObjectId('66726deecb5a9367e2556eb9'), ObjectId('66726deecb5a9367e2556eba'), ObjectId('66726deecb5a9367e2556ebb'), ObjectId('66726deecb5a9367e2556ebc'), ObjectId('66726deecb5a9367e2556ebd'), ObjectId('66726deecb5a9367e2556ebe'), ObjectId('66726deecb5a9367e2556ebf'), ObjectId('66726deecb5a9367e2556ec0'), ObjectId('66726deecb5a9367e2556ec1'), ObjectId('66726deecb5a9367e2556ec2'), ObjectId('66726deecb5a9367e2556ec3'), ObjectId('66726deecb5a9367e2556ec4'), ObjectId('66726deecb5a9367e2556ec5'), ObjectId('66726deecb5a9367e2556ec6'), ObjectId('66726deecb5a9367e2556ec7'), ObjectId('66726deecb5a9367e2556ec8'), ObjectId('66726deecb5a9367e2556ec9'), ObjectId('66726deecb5a9367e2556eca'), ObjectId('66726deecb5a9367e2556ecb'), ObjectId('66726deecb5a9367e2556ecc'), ObjectId('66726deecb5a9367e2556ecd'), ObjectId('66726deecb5a9367e2556ece'), ObjectId('66726deecb5a9367e2556ecf'), ObjectId('66726deecb5a9367e2556ed0'), ObjectId('66726deecb5a9367e2556ed1'), ObjectId('66726deecb5a9367e2556ed2'), ObjectId('66726deecb5a9367e2556ed3'), ObjectId('66726deecb5a9367e2556ed4'), ObjectId('66726deecb5a9367e2556ed5'), ObjectId('66726deecb5a9367e2556ed6'), ObjectId('66726deecb5a9367e2556ed7'), ObjectId('66726deecb5a9367e2556ed8'), ObjectId('66726deecb5a9367e2556ed9'), ObjectId('66726deecb5a9367e2556eda'), ObjectId('66726deecb5a9367e2556edb'), ObjectId('66726deecb5a9367e2556edc'), ObjectId('66726deecb5a9367e2556edd'), ObjectId('66726deecb5a9367e2556ede'), ObjectId('66726deecb5a9367e2556edf'), ObjectId('66726deecb5a9367e2556ee0'), ObjectId('66726deecb5a9367e2556ee1'), ObjectId('66726deecb5a9367e2556ee2'), ObjectId('66726deecb5a9367e2556ee3'), ObjectId('66726deecb5a9367e2556ee4'), ObjectId('66726deecb5a9367e2556ee5'), ObjectId('66726deecb5a9367e2556ee6'), ObjectId('66726deecb5a9367e2556ee7'), ObjectId('66726deecb5a9367e2556ee8'), ObjectId('66726deecb5a9367e2556ee9'), ObjectId('66726deecb5a9367e2556eea'), ObjectId('66726deecb5a9367e2556eeb'), ObjectId('66726deecb5a9367e2556eec'), ObjectId('66726deecb5a9367e2556eed'), ObjectId('66726deecb5a9367e2556eee'), ObjectId('66726deecb5a9367e2556eef'), ObjectId('66726deecb5a9367e2556ef0'), ObjectId('66726deecb5a9367e2556ef1'), ObjectId('66726deecb5a9367e2556ef2'), ObjectId('66726deecb5a9367e2556ef3'), ObjectId('66726deecb5a9367e2556ef4'), ObjectId('66726deecb5a9367e2556ef5'), ObjectId('66726deecb5a9367e2556ef6'), ObjectId('66726deecb5a9367e2556ef7'), ObjectId('66726deecb5a9367e2556ef8'), ObjectId('66726deecb5a9367e2556ef9'), ObjectId('66726deecb5a9367e2556efa'), ObjectId('66726deecb5a9367e2556efb'), ObjectId('66726deecb5a9367e2556efc'), ObjectId('66726deecb5a9367e2556efd'), ObjectId('66726deecb5a9367e2556efe'), ObjectId('66726deecb5a9367e2556eff'), ObjectId('66726deecb5a9367e2556f00'), ObjectId('66726deecb5a9367e2556f01'), ObjectId('66726deecb5a9367e2556f02'), ObjectId('66726deecb5a9367e2556f03'), ObjectId('66726deecb5a9367e2556f04'), ObjectId('66726deecb5a9367e2556f05'), ObjectId('66726deecb5a9367e2556f06'), ObjectId('66726deecb5a9367e2556f07'), ObjectId('66726deecb5a9367e2556f08'), ObjectId('66726deecb5a9367e2556f09'), ObjectId('66726deecb5a9367e2556f0a'), ObjectId('66726deecb5a9367e2556f0b'), ObjectId('66726deecb5a9367e2556f0c'), ObjectId('66726deecb5a9367e2556f0d'), ObjectId('66726deecb5a9367e2556f0e'), ObjectId('66726deecb5a9367e2556f0f'), ObjectId('66726deecb5a9367e2556f10'), ObjectId('66726deecb5a9367e2556f11'), ObjectId('66726deecb5a9367e2556f12'), ObjectId('66726deecb5a9367e2556f13'), ObjectId('66726deecb5a9367e2556f14'), ObjectId('66726deecb5a9367e2556f15'), ObjectId('66726deecb5a9367e2556f16'), ObjectId('66726deecb5a9367e2556f17'), ObjectId('66726deecb5a9367e2556f18'), ObjectId('66726deecb5a9367e2556f19'), ObjectId('66726deecb5a9367e2556f1a'), ObjectId('66726deecb5a9367e2556f1b'), ObjectId('66726deecb5a9367e2556f1c'), ObjectId('66726deecb5a9367e2556f1d'), ObjectId('66726deecb5a9367e2556f1e'), ObjectId('66726deecb5a9367e2556f1f'), ObjectId('66726deecb5a9367e2556f20'), ObjectId('66726deecb5a9367e2556f21'), ObjectId('66726deecb5a9367e2556f22'), ObjectId('66726deecb5a9367e2556f23'), ObjectId('66726deecb5a9367e2556f24'), ObjectId('66726deecb5a9367e2556f25'), ObjectId('66726deecb5a9367e2556f26'), ObjectId('66726deecb5a9367e2556f27'), ObjectId('66726deecb5a9367e2556f28'), ObjectId('66726deecb5a9367e2556f29'), ObjectId('66726deecb5a9367e2556f2a'), ObjectId('66726deecb5a9367e2556f2b'), ObjectId('66726deecb5a9367e2556f2c'), ObjectId('66726deecb5a9367e2556f2d'), ObjectId('66726deecb5a9367e2556f2e'), ObjectId('66726deecb5a9367e2556f2f'), ObjectId('66726deecb5a9367e2556f30'), ObjectId('66726deecb5a9367e2556f31'), ObjectId('66726deecb5a9367e2556f32'), ObjectId('66726deecb5a9367e2556f33'), ObjectId('66726deecb5a9367e2556f34'), ObjectId('66726deecb5a9367e2556f35'), ObjectId('66726deecb5a9367e2556f36'), ObjectId('66726deecb5a9367e2556f37'), ObjectId('66726deecb5a9367e2556f38'), ObjectId('66726deecb5a9367e2556f39'), ObjectId('66726deecb5a9367e2556f3a'), ObjectId('66726deecb5a9367e2556f3b'), ObjectId('66726deecb5a9367e2556f3c'), ObjectId('66726deecb5a9367e2556f3d'), ObjectId('66726deecb5a9367e2556f3e'), ObjectId('66726deecb5a9367e2556f3f'), ObjectId('66726deecb5a9367e2556f40'), ObjectId('66726deecb5a9367e2556f41'), ObjectId('66726deecb5a9367e2556f42'), ObjectId('66726deecb5a9367e2556f43'), ObjectId('66726deecb5a9367e2556f44'), ObjectId('66726deecb5a9367e2556f45'), ObjectId('66726deecb5a9367e2556f46'), ObjectId('66726deecb5a9367e2556f47'), ObjectId('66726deecb5a9367e2556f48'), ObjectId('66726deecb5a9367e2556f49'), ObjectId('66726deecb5a9367e2556f4a'), ObjectId('66726deecb5a9367e2556f4b'), ObjectId('66726deecb5a9367e2556f4c'), ObjectId('66726deecb5a9367e2556f4d'), ObjectId('66726deecb5a9367e2556f4e'), ObjectId('66726deecb5a9367e2556f4f'), ObjectId('66726deecb5a9367e2556f50'), ObjectId('66726deecb5a9367e2556f51'), ObjectId('66726deecb5a9367e2556f52'), ObjectId('66726deecb5a9367e2556f53'), ObjectId('66726deecb5a9367e2556f54'), ObjectId('66726deecb5a9367e2556f55'), ObjectId('66726deecb5a9367e2556f56'), ObjectId('66726deecb5a9367e2556f57'), ObjectId('66726deecb5a9367e2556f58'), ObjectId('66726deecb5a9367e2556f59'), ObjectId('66726deecb5a9367e2556f5a'), ObjectId('66726deecb5a9367e2556f5b'), ObjectId('66726deecb5a9367e2556f5c'), ObjectId('66726deecb5a9367e2556f5d'), ObjectId('66726deecb5a9367e2556f5e'), ObjectId('66726deecb5a9367e2556f5f'), ObjectId('66726deecb5a9367e2556f60'), ObjectId('66726deecb5a9367e2556f61'), ObjectId('66726deecb5a9367e2556f62'), ObjectId('66726deecb5a9367e2556f63'), ObjectId('66726deecb5a9367e2556f64'), ObjectId('66726deecb5a9367e2556f65'), ObjectId('66726deecb5a9367e2556f66'), ObjectId('66726deecb5a9367e2556f67'), ObjectId('66726deecb5a9367e2556f68'), ObjectId('66726deecb5a9367e2556f69'), ObjectId('66726deecb5a9367e2556f6a'), ObjectId('66726deecb5a9367e2556f6b'), ObjectId('66726deecb5a9367e2556f6c'), ObjectId('66726deecb5a9367e2556f6d'), ObjectId('66726deecb5a9367e2556f6e'), ObjectId('66726deecb5a9367e2556f6f'), ObjectId('66726deecb5a9367e2556f70'), ObjectId('66726deecb5a9367e2556f71'), ObjectId('66726deecb5a9367e2556f72'), ObjectId('66726deecb5a9367e2556f73'), ObjectId('66726deecb5a9367e2556f74'), ObjectId('66726deecb5a9367e2556f75'), ObjectId('66726deecb5a9367e2556f76'), ObjectId('66726deecb5a9367e2556f77'), ObjectId('66726deecb5a9367e2556f78'), ObjectId('66726deecb5a9367e2556f79'), ObjectId('66726deecb5a9367e2556f7a'), ObjectId('66726deecb5a9367e2556f7b'), ObjectId('66726deecb5a9367e2556f7c'), ObjectId('66726deecb5a9367e2556f7d'), ObjectId('66726deecb5a9367e2556f7e'), ObjectId('66726deecb5a9367e2556f7f'), ObjectId('66726deecb5a9367e2556f80'), ObjectId('66726deecb5a9367e2556f81'), ObjectId('66726deecb5a9367e2556f82'), ObjectId('66726deecb5a9367e2556f83'), ObjectId('66726deecb5a9367e2556f84'), ObjectId('66726deecb5a9367e2556f85'), ObjectId('66726deecb5a9367e2556f86'), ObjectId('66726deecb5a9367e2556f87'), ObjectId('66726deecb5a9367e2556f88'), ObjectId('66726deecb5a9367e2556f89'), ObjectId('66726deecb5a9367e2556f8a'), ObjectId('66726deecb5a9367e2556f8b'), ObjectId('66726deecb5a9367e2556f8c'), ObjectId('66726deecb5a9367e2556f8d'), ObjectId('66726deecb5a9367e2556f8e'), ObjectId('66726deecb5a9367e2556f8f'), ObjectId('66726deecb5a9367e2556f90'), ObjectId('66726deecb5a9367e2556f91'), ObjectId('66726deecb5a9367e2556f92'), ObjectId('66726deecb5a9367e2556f93'), ObjectId('66726deecb5a9367e2556f94'), ObjectId('66726deecb5a9367e2556f95'), ObjectId('66726deecb5a9367e2556f96'), ObjectId('66726deecb5a9367e2556f97'), ObjectId('66726deecb5a9367e2556f98'), ObjectId('66726deecb5a9367e2556f99'), ObjectId('66726deecb5a9367e2556f9a'), ObjectId('66726deecb5a9367e2556f9b'), ObjectId('66726deecb5a9367e2556f9c'), ObjectId('66726deecb5a9367e2556f9d'), ObjectId('66726deecb5a9367e2556f9e'), ObjectId('66726deecb5a9367e2556f9f'), ObjectId('66726deecb5a9367e2556fa0'), ObjectId('66726deecb5a9367e2556fa1'), ObjectId('66726deecb5a9367e2556fa2'), ObjectId('66726deecb5a9367e2556fa3'), ObjectId('66726deecb5a9367e2556fa4'), ObjectId('66726deecb5a9367e2556fa5'), ObjectId('66726deecb5a9367e2556fa6'), ObjectId('66726deecb5a9367e2556fa7'), ObjectId('66726deecb5a9367e2556fa8'), ObjectId('66726deecb5a9367e2556fa9'), ObjectId('66726deecb5a9367e2556faa'), ObjectId('66726deecb5a9367e2556fab'), ObjectId('66726deecb5a9367e2556fac'), ObjectId('66726deecb5a9367e2556fad'), ObjectId('66726deecb5a9367e2556fae'), ObjectId('66726deecb5a9367e2556faf'), ObjectId('66726deecb5a9367e2556fb0'), ObjectId('66726deecb5a9367e2556fb1'), ObjectId('66726deecb5a9367e2556fb2'), ObjectId('66726deecb5a9367e2556fb3'), ObjectId('66726deecb5a9367e2556fb4'), ObjectId('66726deecb5a9367e2556fb5'), ObjectId('66726deecb5a9367e2556fb6'), ObjectId('66726deecb5a9367e2556fb7'), ObjectId('66726deecb5a9367e2556fb8'), ObjectId('66726deecb5a9367e2556fb9'), ObjectId('66726deecb5a9367e2556fba'), ObjectId('66726deecb5a9367e2556fbb'), ObjectId('66726deecb5a9367e2556fbc'), ObjectId('66726deecb5a9367e2556fbd'), ObjectId('66726deecb5a9367e2556fbe'), ObjectId('66726deecb5a9367e2556fbf'), ObjectId('66726deecb5a9367e2556fc0'), ObjectId('66726deecb5a9367e2556fc1'), ObjectId('66726deecb5a9367e2556fc2'), ObjectId('66726deecb5a9367e2556fc3'), ObjectId('66726deecb5a9367e2556fc4'), ObjectId('66726deecb5a9367e2556fc5'), ObjectId('66726deecb5a9367e2556fc6'), ObjectId('66726deecb5a9367e2556fc7'), ObjectId('66726deecb5a9367e2556fc8'), ObjectId('66726deecb5a9367e2556fc9'), ObjectId('66726deecb5a9367e2556fca'), ObjectId('66726deecb5a9367e2556fcb'), ObjectId('66726deecb5a9367e2556fcc'), ObjectId('66726deecb5a9367e2556fcd'), ObjectId('66726deecb5a9367e2556fce'), ObjectId('66726deecb5a9367e2556fcf'), ObjectId('66726deecb5a9367e2556fd0'), ObjectId('66726deecb5a9367e2556fd1'), ObjectId('66726deecb5a9367e2556fd2'), ObjectId('66726deecb5a9367e2556fd3'), ObjectId('66726deecb5a9367e2556fd4'), ObjectId('66726deecb5a9367e2556fd5'), ObjectId('66726deecb5a9367e2556fd6'), ObjectId('66726deecb5a9367e2556fd7'), ObjectId('66726deecb5a9367e2556fd8'), ObjectId('66726deecb5a9367e2556fd9'), ObjectId('66726deecb5a9367e2556fda'), ObjectId('66726deecb5a9367e2556fdb'), ObjectId('66726deecb5a9367e2556fdc'), ObjectId('66726deecb5a9367e2556fdd'), ObjectId('66726deecb5a9367e2556fde'), ObjectId('66726deecb5a9367e2556fdf'), ObjectId('66726deecb5a9367e2556fe0'), ObjectId('66726deecb5a9367e2556fe1'), ObjectId('66726deecb5a9367e2556fe2'), ObjectId('66726deecb5a9367e2556fe3'), ObjectId('66726deecb5a9367e2556fe4'), ObjectId('66726deecb5a9367e2556fe5'), ObjectId('66726deecb5a9367e2556fe6'), ObjectId('66726deecb5a9367e2556fe7'), ObjectId('66726deecb5a9367e2556fe8'), ObjectId('66726deecb5a9367e2556fe9'), ObjectId('66726deecb5a9367e2556fea'), ObjectId('66726deecb5a9367e2556feb'), ObjectId('66726deecb5a9367e2556fec'), ObjectId('66726deecb5a9367e2556fed'), ObjectId('66726deecb5a9367e2556fee'), ObjectId('66726deecb5a9367e2556fef'), ObjectId('66726deecb5a9367e2556ff0'), ObjectId('66726deecb5a9367e2556ff1'), ObjectId('66726deecb5a9367e2556ff2'), ObjectId('66726deecb5a9367e2556ff3'), ObjectId('66726deecb5a9367e2556ff4'), ObjectId('66726deecb5a9367e2556ff5'), ObjectId('66726deecb5a9367e2556ff6'), ObjectId('66726deecb5a9367e2556ff7'), ObjectId('66726deecb5a9367e2556ff8'), ObjectId('66726deecb5a9367e2556ff9'), ObjectId('66726deecb5a9367e2556ffa'), ObjectId('66726deecb5a9367e2556ffb'), ObjectId('66726deecb5a9367e2556ffc'), ObjectId('66726deecb5a9367e2556ffd'), ObjectId('66726deecb5a9367e2556ffe'), ObjectId('66726deecb5a9367e2556fff'), ObjectId('66726deecb5a9367e2557000'), ObjectId('66726deecb5a9367e2557001'), ObjectId('66726deecb5a9367e2557002'), ObjectId('66726deecb5a9367e2557003'), ObjectId('66726deecb5a9367e2557004'), ObjectId('66726deecb5a9367e2557005'), ObjectId('66726deecb5a9367e2557006'), ObjectId('66726deecb5a9367e2557007'), ObjectId('66726deecb5a9367e2557008'), ObjectId('66726deecb5a9367e2557009'), ObjectId('66726deecb5a9367e255700a'), ObjectId('66726deecb5a9367e255700b'), ObjectId('66726deecb5a9367e255700c'), ObjectId('66726deecb5a9367e255700d'), ObjectId('66726deecb5a9367e255700e'), ObjectId('66726deecb5a9367e255700f'), ObjectId('66726deecb5a9367e2557010'), ObjectId('66726deecb5a9367e2557011'), ObjectId('66726deecb5a9367e2557012'), ObjectId('66726deecb5a9367e2557013'), ObjectId('66726deecb5a9367e2557014'), ObjectId('66726deecb5a9367e2557015'), ObjectId('66726deecb5a9367e2557016'), ObjectId('66726deecb5a9367e2557017'), ObjectId('66726deecb5a9367e2557018'), ObjectId('66726deecb5a9367e2557019'), ObjectId('66726deecb5a9367e255701a'), ObjectId('66726deecb5a9367e255701b'), ObjectId('66726deecb5a9367e255701c'), ObjectId('66726deecb5a9367e255701d'), ObjectId('66726deecb5a9367e255701e'), ObjectId('66726deecb5a9367e255701f'), ObjectId('66726deecb5a9367e2557020'), ObjectId('66726deecb5a9367e2557021'), ObjectId('66726deecb5a9367e2557022'), ObjectId('66726deecb5a9367e2557023'), ObjectId('66726deecb5a9367e2557024'), ObjectId('66726deecb5a9367e2557025'), ObjectId('66726deecb5a9367e2557026'), ObjectId('66726deecb5a9367e2557027'), ObjectId('66726deecb5a9367e2557028'), ObjectId('66726deecb5a9367e2557029'), ObjectId('66726deecb5a9367e255702a'), ObjectId('66726deecb5a9367e255702b'), ObjectId('66726deecb5a9367e255702c'), ObjectId('66726deecb5a9367e255702d'), ObjectId('66726deecb5a9367e255702e'), ObjectId('66726deecb5a9367e255702f'), ObjectId('66726deecb5a9367e2557030'), ObjectId('66726deecb5a9367e2557031'), ObjectId('66726deecb5a9367e2557032'), ObjectId('66726deecb5a9367e2557033'), ObjectId('66726deecb5a9367e2557034'), ObjectId('66726deecb5a9367e2557035'), ObjectId('66726deecb5a9367e2557036'), ObjectId('66726deecb5a9367e2557037'), ObjectId('66726deecb5a9367e2557038'), ObjectId('66726deecb5a9367e2557039'), ObjectId('66726deecb5a9367e255703a'), ObjectId('66726deecb5a9367e255703b'), ObjectId('66726deecb5a9367e255703c'), ObjectId('66726deecb5a9367e255703d'), ObjectId('66726deecb5a9367e255703e'), ObjectId('66726deecb5a9367e255703f'), ObjectId('66726deecb5a9367e2557040'), ObjectId('66726deecb5a9367e2557041'), ObjectId('66726deecb5a9367e2557042'), ObjectId('66726deecb5a9367e2557043'), ObjectId('66726deecb5a9367e2557044'), ObjectId('66726deecb5a9367e2557045'), ObjectId('66726deecb5a9367e2557046'), ObjectId('66726deecb5a9367e2557047'), ObjectId('66726deecb5a9367e2557048'), ObjectId('66726deecb5a9367e2557049'), ObjectId('66726deecb5a9367e255704a'), ObjectId('66726deecb5a9367e255704b'), ObjectId('66726deecb5a9367e255704c'), ObjectId('66726deecb5a9367e255704d'), ObjectId('66726deecb5a9367e255704e'), ObjectId('66726deecb5a9367e255704f'), ObjectId('66726deecb5a9367e2557050'), ObjectId('66726deecb5a9367e2557051'), ObjectId('66726deecb5a9367e2557052'), ObjectId('66726deecb5a9367e2557053'), ObjectId('66726deecb5a9367e2557054'), ObjectId('66726deecb5a9367e2557055'), ObjectId('66726deecb5a9367e2557056'), ObjectId('66726deecb5a9367e2557057'), ObjectId('66726deecb5a9367e2557058'), ObjectId('66726deecb5a9367e2557059'), ObjectId('66726deecb5a9367e255705a'), ObjectId('66726deecb5a9367e255705b'), ObjectId('66726deecb5a9367e255705c'), ObjectId('66726deecb5a9367e255705d'), ObjectId('66726deecb5a9367e255705e'), ObjectId('66726deecb5a9367e255705f'), ObjectId('66726deecb5a9367e2557060'), ObjectId('66726deecb5a9367e2557061'), ObjectId('66726deecb5a9367e2557062'), ObjectId('66726deecb5a9367e2557063'), ObjectId('66726deecb5a9367e2557064'), ObjectId('66726deecb5a9367e2557065'), ObjectId('66726deecb5a9367e2557066'), ObjectId('66726deecb5a9367e2557067'), ObjectId('66726deecb5a9367e2557068'), ObjectId('66726deecb5a9367e2557069'), ObjectId('66726deecb5a9367e255706a'), ObjectId('66726deecb5a9367e255706b'), ObjectId('66726deecb5a9367e255706c'), ObjectId('66726deecb5a9367e255706d'), ObjectId('66726deecb5a9367e255706e'), ObjectId('66726deecb5a9367e255706f'), ObjectId('66726deecb5a9367e2557070'), ObjectId('66726deecb5a9367e2557071'), ObjectId('66726deecb5a9367e2557072'), ObjectId('66726deecb5a9367e2557073'), ObjectId('66726deecb5a9367e2557074'), ObjectId('66726deecb5a9367e2557075'), ObjectId('66726deecb5a9367e2557076'), ObjectId('66726deecb5a9367e2557077'), ObjectId('66726deecb5a9367e2557078'), ObjectId('66726deecb5a9367e2557079'), ObjectId('66726deecb5a9367e255707a'), ObjectId('66726deecb5a9367e255707b'), ObjectId('66726deecb5a9367e255707c'), ObjectId('66726deecb5a9367e255707d'), ObjectId('66726deecb5a9367e255707e'), ObjectId('66726deecb5a9367e255707f'), ObjectId('66726deecb5a9367e2557080'), ObjectId('66726deecb5a9367e2557081'), ObjectId('66726deecb5a9367e2557082'), ObjectId('66726deecb5a9367e2557083'), ObjectId('66726deecb5a9367e2557084'), ObjectId('66726deecb5a9367e2557085'), ObjectId('66726deecb5a9367e2557086'), ObjectId('66726deecb5a9367e2557087'), ObjectId('66726deecb5a9367e2557088'), ObjectId('66726deecb5a9367e2557089'), ObjectId('66726deecb5a9367e255708a'), ObjectId('66726deecb5a9367e255708b'), ObjectId('66726deecb5a9367e255708c'), ObjectId('66726deecb5a9367e255708d'), ObjectId('66726deecb5a9367e255708e'), ObjectId('66726deecb5a9367e255708f'), ObjectId('66726deecb5a9367e2557090'), ObjectId('66726deecb5a9367e2557091'), ObjectId('66726deecb5a9367e2557092'), ObjectId('66726deecb5a9367e2557093'), ObjectId('66726deecb5a9367e2557094'), ObjectId('66726deecb5a9367e2557095'), ObjectId('66726deecb5a9367e2557096'), ObjectId('66726deecb5a9367e2557097'), ObjectId('66726deecb5a9367e2557098'), ObjectId('66726deecb5a9367e2557099'), ObjectId('66726deecb5a9367e255709a'), ObjectId('66726deecb5a9367e255709b'), ObjectId('66726deecb5a9367e255709c'), ObjectId('66726deecb5a9367e255709d'), ObjectId('66726deecb5a9367e255709e'), ObjectId('66726deecb5a9367e255709f'), ObjectId('66726deecb5a9367e25570a0'), ObjectId('66726deecb5a9367e25570a1'), ObjectId('66726deecb5a9367e25570a2'), ObjectId('66726deecb5a9367e25570a3'), ObjectId('66726deecb5a9367e25570a4'), ObjectId('66726deecb5a9367e25570a5'), ObjectId('66726deecb5a9367e25570a6'), ObjectId('66726deecb5a9367e25570a7'), ObjectId('66726deecb5a9367e25570a8'), ObjectId('66726deecb5a9367e25570a9'), ObjectId('66726deecb5a9367e25570aa'), ObjectId('66726deecb5a9367e25570ab'), ObjectId('66726deecb5a9367e25570ac'), ObjectId('66726deecb5a9367e25570ad'), ObjectId('66726deecb5a9367e25570ae'), ObjectId('66726deecb5a9367e25570af'), ObjectId('66726deecb5a9367e25570b0'), ObjectId('66726deecb5a9367e25570b1'), ObjectId('66726deecb5a9367e25570b2'), ObjectId('66726deecb5a9367e25570b3'), ObjectId('66726deecb5a9367e25570b4'), ObjectId('66726deecb5a9367e25570b5'), ObjectId('66726deecb5a9367e25570b6'), ObjectId('66726deecb5a9367e25570b7'), ObjectId('66726deecb5a9367e25570b8'), ObjectId('66726deecb5a9367e25570b9'), ObjectId('66726deecb5a9367e25570ba'), ObjectId('66726deecb5a9367e25570bb'), ObjectId('66726deecb5a9367e25570bc'), ObjectId('66726deecb5a9367e25570bd'), ObjectId('66726deecb5a9367e25570be'), ObjectId('66726deecb5a9367e25570bf'), ObjectId('66726deecb5a9367e25570c0'), ObjectId('66726deecb5a9367e25570c1'), ObjectId('66726deecb5a9367e25570c2'), ObjectId('66726deecb5a9367e25570c3'), ObjectId('66726deecb5a9367e25570c4'), ObjectId('66726deecb5a9367e25570c5'), ObjectId('66726deecb5a9367e25570c6'), ObjectId('66726deecb5a9367e25570c7'), ObjectId('66726deecb5a9367e25570c8'), ObjectId('66726deecb5a9367e25570c9'), ObjectId('66726deecb5a9367e25570ca'), ObjectId('66726deecb5a9367e25570cb'), ObjectId('66726deecb5a9367e25570cc'), ObjectId('66726deecb5a9367e25570cd'), ObjectId('66726deecb5a9367e25570ce'), ObjectId('66726deecb5a9367e25570cf'), ObjectId('66726deecb5a9367e25570d0'), ObjectId('66726deecb5a9367e25570d1'), ObjectId('66726deecb5a9367e25570d2'), ObjectId('66726deecb5a9367e25570d3'), ObjectId('66726deecb5a9367e25570d4'), ObjectId('66726deecb5a9367e25570d5'), ObjectId('66726deecb5a9367e25570d6'), ObjectId('66726deecb5a9367e25570d7'), ObjectId('66726deecb5a9367e25570d8'), ObjectId('66726deecb5a9367e25570d9'), ObjectId('66726deecb5a9367e25570da'), ObjectId('66726deecb5a9367e25570db'), ObjectId('66726deecb5a9367e25570dc'), ObjectId('66726deecb5a9367e25570dd'), ObjectId('66726deecb5a9367e25570de'), ObjectId('66726deecb5a9367e25570df'), ObjectId('66726deecb5a9367e25570e0'), ObjectId('66726deecb5a9367e25570e1'), ObjectId('66726deecb5a9367e25570e2'), ObjectId('66726deecb5a9367e25570e3'), ObjectId('66726deecb5a9367e25570e4'), ObjectId('66726deecb5a9367e25570e5'), ObjectId('66726deecb5a9367e25570e6'), ObjectId('66726deecb5a9367e25570e7'), ObjectId('66726deecb5a9367e25570e8'), ObjectId('66726deecb5a9367e25570e9'), ObjectId('66726deecb5a9367e25570ea'), ObjectId('66726deecb5a9367e25570eb'), ObjectId('66726deecb5a9367e25570ec'), ObjectId('66726deecb5a9367e25570ed'), ObjectId('66726deecb5a9367e25570ee'), ObjectId('66726deecb5a9367e25570ef'), ObjectId('66726deecb5a9367e25570f0'), ObjectId('66726deecb5a9367e25570f1'), ObjectId('66726deecb5a9367e25570f2'), ObjectId('66726deecb5a9367e25570f3'), ObjectId('66726deecb5a9367e25570f4'), ObjectId('66726deecb5a9367e25570f5'), ObjectId('66726deecb5a9367e25570f6'), ObjectId('66726deecb5a9367e25570f7'), ObjectId('66726deecb5a9367e25570f8'), ObjectId('66726deecb5a9367e25570f9'), ObjectId('66726deecb5a9367e25570fa'), ObjectId('66726deecb5a9367e25570fb'), ObjectId('66726deecb5a9367e25570fc'), ObjectId('66726deecb5a9367e25570fd'), ObjectId('66726deecb5a9367e25570fe'), ObjectId('66726deecb5a9367e25570ff'), ObjectId('66726deecb5a9367e2557100'), ObjectId('66726deecb5a9367e2557101'), ObjectId('66726deecb5a9367e2557102'), ObjectId('66726deecb5a9367e2557103'), ObjectId('66726deecb5a9367e2557104'), ObjectId('66726deecb5a9367e2557105'), ObjectId('66726deecb5a9367e2557106'), ObjectId('66726deecb5a9367e2557107'), ObjectId('66726deecb5a9367e2557108'), ObjectId('66726deecb5a9367e2557109'), ObjectId('66726deecb5a9367e255710a'), ObjectId('66726deecb5a9367e255710b'), ObjectId('66726deecb5a9367e255710c'), ObjectId('66726deecb5a9367e255710d'), ObjectId('66726deecb5a9367e255710e'), ObjectId('66726deecb5a9367e255710f'), ObjectId('66726deecb5a9367e2557110'), ObjectId('66726deecb5a9367e2557111'), ObjectId('66726deecb5a9367e2557112'), ObjectId('66726deecb5a9367e2557113'), ObjectId('66726deecb5a9367e2557114'), ObjectId('66726deecb5a9367e2557115'), ObjectId('66726deecb5a9367e2557116'), ObjectId('66726deecb5a9367e2557117'), ObjectId('66726deecb5a9367e2557118'), ObjectId('66726deecb5a9367e2557119'), ObjectId('66726deecb5a9367e255711a'), ObjectId('66726deecb5a9367e255711b'), ObjectId('66726deecb5a9367e255711c'), ObjectId('66726deecb5a9367e255711d'), ObjectId('66726deecb5a9367e255711e'), ObjectId('66726deecb5a9367e255711f'), ObjectId('66726deecb5a9367e2557120'), ObjectId('66726deecb5a9367e2557121'), ObjectId('66726deecb5a9367e2557122'), ObjectId('66726deecb5a9367e2557123'), ObjectId('66726deecb5a9367e2557124'), ObjectId('66726deecb5a9367e2557125'), ObjectId('66726deecb5a9367e2557126'), ObjectId('66726deecb5a9367e2557127'), ObjectId('66726deecb5a9367e2557128'), ObjectId('66726deecb5a9367e2557129'), ObjectId('66726deecb5a9367e255712a'), ObjectId('66726deecb5a9367e255712b'), ObjectId('66726deecb5a9367e255712c'), ObjectId('66726deecb5a9367e255712d'), ObjectId('66726deecb5a9367e255712e'), ObjectId('66726deecb5a9367e255712f'), ObjectId('66726deecb5a9367e2557130'), ObjectId('66726deecb5a9367e2557131'), ObjectId('66726deecb5a9367e2557132'), ObjectId('66726deecb5a9367e2557133'), ObjectId('66726deecb5a9367e2557134'), ObjectId('66726deecb5a9367e2557135'), ObjectId('66726deecb5a9367e2557136'), ObjectId('66726deecb5a9367e2557137'), ObjectId('66726deecb5a9367e2557138'), ObjectId('66726deecb5a9367e2557139'), ObjectId('66726deecb5a9367e255713a'), ObjectId('66726deecb5a9367e255713b'), ObjectId('66726deecb5a9367e255713c'), ObjectId('66726deecb5a9367e255713d'), ObjectId('66726deecb5a9367e255713e'), ObjectId('66726deecb5a9367e255713f'), ObjectId('66726deecb5a9367e2557140'), ObjectId('66726deecb5a9367e2557141'), ObjectId('66726deecb5a9367e2557142'), ObjectId('66726deecb5a9367e2557143'), ObjectId('66726deecb5a9367e2557144'), ObjectId('66726deecb5a9367e2557145'), ObjectId('66726deecb5a9367e2557146'), ObjectId('66726deecb5a9367e2557147'), ObjectId('66726deecb5a9367e2557148'), ObjectId('66726deecb5a9367e2557149'), ObjectId('66726deecb5a9367e255714a'), ObjectId('66726deecb5a9367e255714b'), ObjectId('66726deecb5a9367e255714c'), ObjectId('66726deecb5a9367e255714d'), ObjectId('66726deecb5a9367e255714e'), ObjectId('66726deecb5a9367e255714f'), ObjectId('66726deecb5a9367e2557150'), ObjectId('66726deecb5a9367e2557151'), ObjectId('66726deecb5a9367e2557152'), ObjectId('66726deecb5a9367e2557153'), ObjectId('66726deecb5a9367e2557154'), ObjectId('66726deecb5a9367e2557155'), ObjectId('66726deecb5a9367e2557156'), ObjectId('66726deecb5a9367e2557157'), ObjectId('66726deecb5a9367e2557158'), ObjectId('66726deecb5a9367e2557159'), ObjectId('66726deecb5a9367e255715a'), ObjectId('66726deecb5a9367e255715b'), ObjectId('66726deecb5a9367e255715c'), ObjectId('66726deecb5a9367e255715d'), ObjectId('66726deecb5a9367e255715e'), ObjectId('66726deecb5a9367e255715f'), ObjectId('66726deecb5a9367e2557160'), ObjectId('66726deecb5a9367e2557161'), ObjectId('66726deecb5a9367e2557162'), ObjectId('66726deecb5a9367e2557163'), ObjectId('66726deecb5a9367e2557164'), ObjectId('66726deecb5a9367e2557165'), ObjectId('66726deecb5a9367e2557166'), ObjectId('66726deecb5a9367e2557167'), ObjectId('66726deecb5a9367e2557168'), ObjectId('66726deecb5a9367e2557169'), ObjectId('66726deecb5a9367e255716a'), ObjectId('66726deecb5a9367e255716b'), ObjectId('66726deecb5a9367e255716c'), ObjectId('66726deecb5a9367e255716d'), ObjectId('66726deecb5a9367e255716e'), ObjectId('66726deecb5a9367e255716f'), ObjectId('66726deecb5a9367e2557170'), ObjectId('66726deecb5a9367e2557171'), ObjectId('66726deecb5a9367e2557172'), ObjectId('66726deecb5a9367e2557173'), ObjectId('66726deecb5a9367e2557174'), ObjectId('66726deecb5a9367e2557175'), ObjectId('66726deecb5a9367e2557176'), ObjectId('66726deecb5a9367e2557177'), ObjectId('66726deecb5a9367e2557178'), ObjectId('66726deecb5a9367e2557179'), ObjectId('66726deecb5a9367e255717a'), ObjectId('66726deecb5a9367e255717b'), ObjectId('66726deecb5a9367e255717c'), ObjectId('66726deecb5a9367e255717d'), ObjectId('66726deecb5a9367e255717e'), ObjectId('66726deecb5a9367e255717f'), ObjectId('66726deecb5a9367e2557180'), ObjectId('66726deecb5a9367e2557181'), ObjectId('66726deecb5a9367e2557182'), ObjectId('66726deecb5a9367e2557183'), ObjectId('66726deecb5a9367e2557184'), ObjectId('66726deecb5a9367e2557185'), ObjectId('66726deecb5a9367e2557186'), ObjectId('66726deecb5a9367e2557187'), ObjectId('66726deecb5a9367e2557188'), ObjectId('66726deecb5a9367e2557189'), ObjectId('66726deecb5a9367e255718a'), ObjectId('66726deecb5a9367e255718b'), ObjectId('66726deecb5a9367e255718c'), ObjectId('66726deecb5a9367e255718d'), ObjectId('66726deecb5a9367e255718e'), ObjectId('66726deecb5a9367e255718f'), ObjectId('66726deecb5a9367e2557190'), ObjectId('66726deecb5a9367e2557191'), ObjectId('66726deecb5a9367e2557192'), ObjectId('66726deecb5a9367e2557193'), ObjectId('66726deecb5a9367e2557194'), ObjectId('66726deecb5a9367e2557195'), ObjectId('66726deecb5a9367e2557196'), ObjectId('66726deecb5a9367e2557197'), ObjectId('66726deecb5a9367e2557198'), ObjectId('66726deecb5a9367e2557199'), ObjectId('66726deecb5a9367e255719a'), ObjectId('66726deecb5a9367e255719b'), ObjectId('66726deecb5a9367e255719c'), ObjectId('66726deecb5a9367e255719d'), ObjectId('66726deecb5a9367e255719e'), ObjectId('66726deecb5a9367e255719f'), ObjectId('66726deecb5a9367e25571a0'), ObjectId('66726deecb5a9367e25571a1'), ObjectId('66726deecb5a9367e25571a2'), ObjectId('66726deecb5a9367e25571a3'), ObjectId('66726deecb5a9367e25571a4'), ObjectId('66726deecb5a9367e25571a5'), ObjectId('66726deecb5a9367e25571a6'), ObjectId('66726deecb5a9367e25571a7'), ObjectId('66726deecb5a9367e25571a8'), ObjectId('66726deecb5a9367e25571a9'), ObjectId('66726deecb5a9367e25571aa'), ObjectId('66726deecb5a9367e25571ab'), ObjectId('66726deecb5a9367e25571ac'), ObjectId('66726deecb5a9367e25571ad'), ObjectId('66726deecb5a9367e25571ae'), ObjectId('66726deecb5a9367e25571af'), ObjectId('66726deecb5a9367e25571b0'), ObjectId('66726deecb5a9367e25571b1'), ObjectId('66726deecb5a9367e25571b2'), ObjectId('66726deecb5a9367e25571b3'), ObjectId('66726deecb5a9367e25571b4'), ObjectId('66726deecb5a9367e25571b5'), ObjectId('66726deecb5a9367e25571b6'), ObjectId('66726deecb5a9367e25571b7'), ObjectId('66726deecb5a9367e25571b8'), ObjectId('66726deecb5a9367e25571b9'), ObjectId('66726deecb5a9367e25571ba'), ObjectId('66726deecb5a9367e25571bb'), ObjectId('66726deecb5a9367e25571bc'), ObjectId('66726deecb5a9367e25571bd'), ObjectId('66726deecb5a9367e25571be'), ObjectId('66726deecb5a9367e25571bf'), ObjectId('66726deecb5a9367e25571c0'), ObjectId('66726deecb5a9367e25571c1'), ObjectId('66726deecb5a9367e25571c2'), ObjectId('66726deecb5a9367e25571c3'), ObjectId('66726deecb5a9367e25571c4'), ObjectId('66726deecb5a9367e25571c5'), ObjectId('66726deecb5a9367e25571c6'), ObjectId('66726deecb5a9367e25571c7'), ObjectId('66726deecb5a9367e25571c8'), ObjectId('66726deecb5a9367e25571c9'), ObjectId('66726deecb5a9367e25571ca'), ObjectId('66726deecb5a9367e25571cb'), ObjectId('66726deecb5a9367e25571cc'), ObjectId('66726deecb5a9367e25571cd'), ObjectId('66726deecb5a9367e25571ce'), ObjectId('66726deecb5a9367e25571cf'), ObjectId('66726deecb5a9367e25571d0'), ObjectId('66726deecb5a9367e25571d1'), ObjectId('66726deecb5a9367e25571d2'), ObjectId('66726deecb5a9367e25571d3'), ObjectId('66726deecb5a9367e25571d4'), ObjectId('66726deecb5a9367e25571d5'), ObjectId('66726deecb5a9367e25571d6'), ObjectId('66726deecb5a9367e25571d7'), ObjectId('66726deecb5a9367e25571d8'), ObjectId('66726deecb5a9367e25571d9'), ObjectId('66726deecb5a9367e25571da'), ObjectId('66726deecb5a9367e25571db'), ObjectId('66726deecb5a9367e25571dc'), ObjectId('66726deecb5a9367e25571dd'), ObjectId('66726deecb5a9367e25571de'), ObjectId('66726deecb5a9367e25571df'), ObjectId('66726deecb5a9367e25571e0'), ObjectId('66726deecb5a9367e25571e1'), ObjectId('66726deecb5a9367e25571e2'), ObjectId('66726deecb5a9367e25571e3'), ObjectId('66726deecb5a9367e25571e4'), ObjectId('66726deecb5a9367e25571e5'), ObjectId('66726deecb5a9367e25571e6'), ObjectId('66726deecb5a9367e25571e7'), ObjectId('66726deecb5a9367e25571e8'), ObjectId('66726deecb5a9367e25571e9'), ObjectId('66726deecb5a9367e25571ea'), ObjectId('66726deecb5a9367e25571eb'), ObjectId('66726deecb5a9367e25571ec'), ObjectId('66726deecb5a9367e25571ed'), ObjectId('66726deecb5a9367e25571ee'), ObjectId('66726deecb5a9367e25571ef'), ObjectId('66726deecb5a9367e25571f0'), ObjectId('66726deecb5a9367e25571f1'), ObjectId('66726deecb5a9367e25571f2'), ObjectId('66726deecb5a9367e25571f3'), ObjectId('66726deecb5a9367e25571f4'), ObjectId('66726deecb5a9367e25571f5'), ObjectId('66726deecb5a9367e25571f6'), ObjectId('66726deecb5a9367e25571f7'), ObjectId('66726deecb5a9367e25571f8'), ObjectId('66726deecb5a9367e25571f9'), ObjectId('66726deecb5a9367e25571fa'), ObjectId('66726deecb5a9367e25571fb'), ObjectId('66726deecb5a9367e25571fc'), ObjectId('66726deecb5a9367e25571fd'), ObjectId('66726deecb5a9367e25571fe'), ObjectId('66726deecb5a9367e25571ff'), ObjectId('66726deecb5a9367e2557200'), ObjectId('66726deecb5a9367e2557201'), ObjectId('66726deecb5a9367e2557202'), ObjectId('66726deecb5a9367e2557203'), ObjectId('66726deecb5a9367e2557204'), ObjectId('66726deecb5a9367e2557205'), ObjectId('66726deecb5a9367e2557206'), ObjectId('66726deecb5a9367e2557207'), ObjectId('66726deecb5a9367e2557208'), ObjectId('66726deecb5a9367e2557209'), ObjectId('66726deecb5a9367e255720a'), ObjectId('66726deecb5a9367e255720b'), ObjectId('66726deecb5a9367e255720c'), ObjectId('66726deecb5a9367e255720d'), ObjectId('66726deecb5a9367e255720e'), ObjectId('66726deecb5a9367e255720f'), ObjectId('66726deecb5a9367e2557210'), ObjectId('66726deecb5a9367e2557211'), ObjectId('66726deecb5a9367e2557212'), ObjectId('66726deecb5a9367e2557213'), ObjectId('66726deecb5a9367e2557214'), ObjectId('66726deecb5a9367e2557215'), ObjectId('66726deecb5a9367e2557216'), ObjectId('66726deecb5a9367e2557217'), ObjectId('66726deecb5a9367e2557218'), ObjectId('66726deecb5a9367e2557219'), ObjectId('66726deecb5a9367e255721a'), ObjectId('66726deecb5a9367e255721b'), ObjectId('66726deecb5a9367e255721c'), ObjectId('66726deecb5a9367e255721d'), ObjectId('66726deecb5a9367e255721e'), ObjectId('66726deecb5a9367e255721f'), ObjectId('66726deecb5a9367e2557220'), ObjectId('66726deecb5a9367e2557221'), ObjectId('66726deecb5a9367e2557222'), ObjectId('66726deecb5a9367e2557223'), ObjectId('66726deecb5a9367e2557224'), ObjectId('66726deecb5a9367e2557225'), ObjectId('66726deecb5a9367e2557226'), ObjectId('66726deecb5a9367e2557227'), ObjectId('66726deecb5a9367e2557228'), ObjectId('66726deecb5a9367e2557229'), ObjectId('66726deecb5a9367e255722a'), ObjectId('66726deecb5a9367e255722b'), ObjectId('66726deecb5a9367e255722c'), ObjectId('66726deecb5a9367e255722d'), ObjectId('66726deecb5a9367e255722e'), ObjectId('66726deecb5a9367e255722f'), ObjectId('66726deecb5a9367e2557230'), ObjectId('66726deecb5a9367e2557231'), ObjectId('66726deecb5a9367e2557232'), ObjectId('66726deecb5a9367e2557233'), ObjectId('66726deecb5a9367e2557234'), ObjectId('66726deecb5a9367e2557235'), ObjectId('66726deecb5a9367e2557236'), ObjectId('66726deecb5a9367e2557237'), ObjectId('66726deecb5a9367e2557238'), ObjectId('66726deecb5a9367e2557239'), ObjectId('66726deecb5a9367e255723a'), ObjectId('66726deecb5a9367e255723b'), ObjectId('66726deecb5a9367e255723c'), ObjectId('66726deecb5a9367e255723d'), ObjectId('66726deecb5a9367e255723e'), ObjectId('66726deecb5a9367e255723f'), ObjectId('66726deecb5a9367e2557240'), ObjectId('66726deecb5a9367e2557241'), ObjectId('66726deecb5a9367e2557242'), ObjectId('66726deecb5a9367e2557243'), ObjectId('66726deecb5a9367e2557244'), ObjectId('66726deecb5a9367e2557245'), ObjectId('66726deecb5a9367e2557246'), ObjectId('66726deecb5a9367e2557247'), ObjectId('66726deecb5a9367e2557248'), ObjectId('66726deecb5a9367e2557249'), ObjectId('66726deecb5a9367e255724a'), ObjectId('66726deecb5a9367e255724b'), ObjectId('66726deecb5a9367e255724c'), ObjectId('66726deecb5a9367e255724d'), ObjectId('66726deecb5a9367e255724e'), ObjectId('66726deecb5a9367e255724f'), ObjectId('66726deecb5a9367e2557250'), ObjectId('66726deecb5a9367e2557251'), ObjectId('66726deecb5a9367e2557252'), ObjectId('66726deecb5a9367e2557253'), ObjectId('66726deecb5a9367e2557254'), ObjectId('66726deecb5a9367e2557255'), ObjectId('66726deecb5a9367e2557256'), ObjectId('66726deecb5a9367e2557257'), ObjectId('66726deecb5a9367e2557258'), ObjectId('66726deecb5a9367e2557259'), ObjectId('66726deecb5a9367e255725a'), ObjectId('66726deecb5a9367e255725b'), ObjectId('66726deecb5a9367e255725c'), ObjectId('66726deecb5a9367e255725d'), ObjectId('66726deecb5a9367e255725e'), ObjectId('66726deecb5a9367e255725f'), ObjectId('66726deecb5a9367e2557260'), ObjectId('66726deecb5a9367e2557261'), ObjectId('66726deecb5a9367e2557262'), ObjectId('66726deecb5a9367e2557263'), ObjectId('66726deecb5a9367e2557264'), ObjectId('66726deecb5a9367e2557265'), ObjectId('66726deecb5a9367e2557266'), ObjectId('66726deecb5a9367e2557267'), ObjectId('66726deecb5a9367e2557268'), ObjectId('66726deecb5a9367e2557269'), ObjectId('66726deecb5a9367e255726a'), ObjectId('66726deecb5a9367e255726b'), ObjectId('66726deecb5a9367e255726c'), ObjectId('66726deecb5a9367e255726d'), ObjectId('66726deecb5a9367e255726e'), ObjectId('66726deecb5a9367e255726f'), ObjectId('66726deecb5a9367e2557270'), ObjectId('66726deecb5a9367e2557271'), ObjectId('66726deecb5a9367e2557272'), ObjectId('66726deecb5a9367e2557273'), ObjectId('66726deecb5a9367e2557274'), ObjectId('66726deecb5a9367e2557275'), ObjectId('66726deecb5a9367e2557276'), ObjectId('66726deecb5a9367e2557277'), ObjectId('66726deecb5a9367e2557278'), ObjectId('66726deecb5a9367e2557279'), ObjectId('66726deecb5a9367e255727a'), ObjectId('66726deecb5a9367e255727b'), ObjectId('66726deecb5a9367e255727c'), ObjectId('66726deecb5a9367e255727d'), ObjectId('66726deecb5a9367e255727e'), ObjectId('66726deecb5a9367e255727f'), ObjectId('66726deecb5a9367e2557280'), ObjectId('66726deecb5a9367e2557281'), ObjectId('66726deecb5a9367e2557282'), ObjectId('66726deecb5a9367e2557283'), ObjectId('66726deecb5a9367e2557284'), ObjectId('66726deecb5a9367e2557285'), ObjectId('66726deecb5a9367e2557286'), ObjectId('66726deecb5a9367e2557287'), ObjectId('66726deecb5a9367e2557288'), ObjectId('66726deecb5a9367e2557289'), ObjectId('66726deecb5a9367e255728a'), ObjectId('66726deecb5a9367e255728b'), ObjectId('66726deecb5a9367e255728c'), ObjectId('66726deecb5a9367e255728d'), ObjectId('66726deecb5a9367e255728e'), ObjectId('66726deecb5a9367e255728f'), ObjectId('66726deecb5a9367e2557290'), ObjectId('66726deecb5a9367e2557291'), ObjectId('66726deecb5a9367e2557292'), ObjectId('66726deecb5a9367e2557293'), ObjectId('66726deecb5a9367e2557294'), ObjectId('66726deecb5a9367e2557295'), ObjectId('66726deecb5a9367e2557296'), ObjectId('66726deecb5a9367e2557297'), ObjectId('66726deecb5a9367e2557298'), ObjectId('66726deecb5a9367e2557299'), ObjectId('66726deecb5a9367e255729a'), ObjectId('66726deecb5a9367e255729b'), ObjectId('66726deecb5a9367e255729c'), ObjectId('66726deecb5a9367e255729d'), ObjectId('66726deecb5a9367e255729e'), ObjectId('66726deecb5a9367e255729f'), ObjectId('66726deecb5a9367e25572a0'), ObjectId('66726deecb5a9367e25572a1'), ObjectId('66726deecb5a9367e25572a2'), ObjectId('66726deecb5a9367e25572a3'), ObjectId('66726deecb5a9367e25572a4'), ObjectId('66726deecb5a9367e25572a5'), ObjectId('66726deecb5a9367e25572a6'), ObjectId('66726deecb5a9367e25572a7'), ObjectId('66726deecb5a9367e25572a8'), ObjectId('66726deecb5a9367e25572a9'), ObjectId('66726deecb5a9367e25572aa'), ObjectId('66726deecb5a9367e25572ab'), ObjectId('66726deecb5a9367e25572ac'), ObjectId('66726deecb5a9367e25572ad'), ObjectId('66726deecb5a9367e25572ae'), ObjectId('66726deecb5a9367e25572af'), ObjectId('66726deecb5a9367e25572b0'), ObjectId('66726deecb5a9367e25572b1'), ObjectId('66726deecb5a9367e25572b2'), ObjectId('66726deecb5a9367e25572b3'), ObjectId('66726deecb5a9367e25572b4'), ObjectId('66726deecb5a9367e25572b5'), ObjectId('66726deecb5a9367e25572b6'), ObjectId('66726deecb5a9367e25572b7'), ObjectId('66726deecb5a9367e25572b8'), ObjectId('66726deecb5a9367e25572b9'), ObjectId('66726deecb5a9367e25572ba'), ObjectId('66726deecb5a9367e25572bb'), ObjectId('66726deecb5a9367e25572bc'), ObjectId('66726deecb5a9367e25572bd'), ObjectId('66726deecb5a9367e25572be'), ObjectId('66726deecb5a9367e25572bf'), ObjectId('66726deecb5a9367e25572c0'), ObjectId('66726deecb5a9367e25572c1'), ObjectId('66726deecb5a9367e25572c2'), ObjectId('66726deecb5a9367e25572c3'), ObjectId('66726deecb5a9367e25572c4'), ObjectId('66726deecb5a9367e25572c5'), ObjectId('66726deecb5a9367e25572c6'), ObjectId('66726deecb5a9367e25572c7'), ObjectId('66726deecb5a9367e25572c8'), ObjectId('66726deecb5a9367e25572c9'), ObjectId('66726deecb5a9367e25572ca'), ObjectId('66726deecb5a9367e25572cb'), ObjectId('66726deecb5a9367e25572cc'), ObjectId('66726deecb5a9367e25572cd'), ObjectId('66726deecb5a9367e25572ce'), ObjectId('66726deecb5a9367e25572cf'), ObjectId('66726deecb5a9367e25572d0'), ObjectId('66726deecb5a9367e25572d1'), ObjectId('66726deecb5a9367e25572d2'), ObjectId('66726deecb5a9367e25572d3'), ObjectId('66726deecb5a9367e25572d4'), ObjectId('66726deecb5a9367e25572d5'), ObjectId('66726deecb5a9367e25572d6'), ObjectId('66726deecb5a9367e25572d7'), ObjectId('66726deecb5a9367e25572d8'), ObjectId('66726deecb5a9367e25572d9'), ObjectId('66726deecb5a9367e25572da'), ObjectId('66726deecb5a9367e25572db'), ObjectId('66726deecb5a9367e25572dc'), ObjectId('66726deecb5a9367e25572dd'), ObjectId('66726deecb5a9367e25572de'), ObjectId('66726deecb5a9367e25572df'), ObjectId('66726deecb5a9367e25572e0'), ObjectId('66726deecb5a9367e25572e1'), ObjectId('66726deecb5a9367e25572e2'), ObjectId('66726deecb5a9367e25572e3'), ObjectId('66726deecb5a9367e25572e4'), ObjectId('66726deecb5a9367e25572e5'), ObjectId('66726deecb5a9367e25572e6'), ObjectId('66726deecb5a9367e25572e7'), ObjectId('66726deecb5a9367e25572e8'), ObjectId('66726deecb5a9367e25572e9'), ObjectId('66726deecb5a9367e25572ea'), ObjectId('66726deecb5a9367e25572eb'), ObjectId('66726deecb5a9367e25572ec'), ObjectId('66726deecb5a9367e25572ed'), ObjectId('66726deecb5a9367e25572ee'), ObjectId('66726deecb5a9367e25572ef'), ObjectId('66726deecb5a9367e25572f0'), ObjectId('66726deecb5a9367e25572f1'), ObjectId('66726deecb5a9367e25572f2'), ObjectId('66726deecb5a9367e25572f3'), ObjectId('66726deecb5a9367e25572f4'), ObjectId('66726deecb5a9367e25572f5'), ObjectId('66726deecb5a9367e25572f6'), ObjectId('66726deecb5a9367e25572f7'), ObjectId('66726deecb5a9367e25572f8'), ObjectId('66726deecb5a9367e25572f9'), ObjectId('66726deecb5a9367e25572fa'), ObjectId('66726deecb5a9367e25572fb'), ObjectId('66726deecb5a9367e25572fc'), ObjectId('66726deecb5a9367e25572fd'), ObjectId('66726deecb5a9367e25572fe'), ObjectId('66726deecb5a9367e25572ff'), ObjectId('66726deecb5a9367e2557300'), ObjectId('66726deecb5a9367e2557301'), ObjectId('66726deecb5a9367e2557302'), ObjectId('66726deecb5a9367e2557303'), ObjectId('66726deecb5a9367e2557304'), ObjectId('66726deecb5a9367e2557305'), ObjectId('66726deecb5a9367e2557306'), ObjectId('66726deecb5a9367e2557307'), ObjectId('66726deecb5a9367e2557308'), ObjectId('66726deecb5a9367e2557309'), ObjectId('66726deecb5a9367e255730a'), ObjectId('66726deecb5a9367e255730b'), ObjectId('66726deecb5a9367e255730c'), ObjectId('66726deecb5a9367e255730d'), ObjectId('66726deecb5a9367e255730e'), ObjectId('66726deecb5a9367e255730f'), ObjectId('66726deecb5a9367e2557310'), ObjectId('66726deecb5a9367e2557311'), ObjectId('66726deecb5a9367e2557312'), ObjectId('66726deecb5a9367e2557313'), ObjectId('66726deecb5a9367e2557314'), ObjectId('66726deecb5a9367e2557315'), ObjectId('66726deecb5a9367e2557316'), ObjectId('66726deecb5a9367e2557317'), ObjectId('66726deecb5a9367e2557318'), ObjectId('66726deecb5a9367e2557319'), ObjectId('66726deecb5a9367e255731a'), ObjectId('66726deecb5a9367e255731b'), ObjectId('66726deecb5a9367e255731c'), ObjectId('66726deecb5a9367e255731d'), ObjectId('66726deecb5a9367e255731e'), ObjectId('66726deecb5a9367e255731f'), ObjectId('66726deecb5a9367e2557320'), ObjectId('66726deecb5a9367e2557321'), ObjectId('66726deecb5a9367e2557322'), ObjectId('66726deecb5a9367e2557323'), ObjectId('66726deecb5a9367e2557324'), ObjectId('66726deecb5a9367e2557325'), ObjectId('66726deecb5a9367e2557326'), ObjectId('66726deecb5a9367e2557327'), ObjectId('66726deecb5a9367e2557328'), ObjectId('66726deecb5a9367e2557329'), ObjectId('66726deecb5a9367e255732a'), ObjectId('66726deecb5a9367e255732b'), ObjectId('66726deecb5a9367e255732c'), ObjectId('66726deecb5a9367e255732d'), ObjectId('66726deecb5a9367e255732e'), ObjectId('66726deecb5a9367e255732f'), ObjectId('66726deecb5a9367e2557330'), ObjectId('66726deecb5a9367e2557331'), ObjectId('66726deecb5a9367e2557332'), ObjectId('66726deecb5a9367e2557333'), ObjectId('66726deecb5a9367e2557334'), ObjectId('66726deecb5a9367e2557335'), ObjectId('66726deecb5a9367e2557336'), ObjectId('66726deecb5a9367e2557337'), ObjectId('66726deecb5a9367e2557338'), ObjectId('66726deecb5a9367e2557339'), ObjectId('66726deecb5a9367e255733a'), ObjectId('66726deecb5a9367e255733b'), ObjectId('66726deecb5a9367e255733c'), ObjectId('66726deecb5a9367e255733d'), ObjectId('66726deecb5a9367e255733e'), ObjectId('66726deecb5a9367e255733f'), ObjectId('66726deecb5a9367e2557340'), ObjectId('66726deecb5a9367e2557341'), ObjectId('66726deecb5a9367e2557342'), ObjectId('66726deecb5a9367e2557343'), ObjectId('66726deecb5a9367e2557344'), ObjectId('66726deecb5a9367e2557345'), ObjectId('66726deecb5a9367e2557346'), ObjectId('66726deecb5a9367e2557347'), ObjectId('66726deecb5a9367e2557348'), ObjectId('66726deecb5a9367e2557349'), ObjectId('66726deecb5a9367e255734a'), ObjectId('66726deecb5a9367e255734b'), ObjectId('66726deecb5a9367e255734c'), ObjectId('66726deecb5a9367e255734d'), ObjectId('66726deecb5a9367e255734e'), ObjectId('66726deecb5a9367e255734f'), ObjectId('66726deecb5a9367e2557350'), ObjectId('66726deecb5a9367e2557351'), ObjectId('66726deecb5a9367e2557352'), ObjectId('66726deecb5a9367e2557353'), ObjectId('66726deecb5a9367e2557354'), ObjectId('66726deecb5a9367e2557355'), ObjectId('66726deecb5a9367e2557356'), ObjectId('66726deecb5a9367e2557357'), ObjectId('66726deecb5a9367e2557358'), ObjectId('66726deecb5a9367e2557359'), ObjectId('66726deecb5a9367e255735a'), ObjectId('66726deecb5a9367e255735b'), ObjectId('66726deecb5a9367e255735c'), ObjectId('66726deecb5a9367e255735d'), ObjectId('66726deecb5a9367e255735e'), ObjectId('66726deecb5a9367e255735f'), ObjectId('66726deecb5a9367e2557360'), ObjectId('66726deecb5a9367e2557361'), ObjectId('66726deecb5a9367e2557362'), ObjectId('66726deecb5a9367e2557363')], acknowledged=True)"
      ]
     },
     "execution_count": 28,
     "metadata": {},
     "output_type": "execute_result"
    }
   ],
   "source": [
    "col.insert_many(expression_data_dict)"
   ]
  },
  {
   "cell_type": "code",
   "execution_count": 29,
   "metadata": {},
   "outputs": [],
   "source": [
    "expression_data_dict = expression_data.to_dict(orient='records')\n",
    "\n",
    "for record in expression_data_dict:\n",
    "    geneID = record['Gene ID']\n",
    "    del record['Gene ID']\n",
    "    \n",
    "    col.update_one({\"Gene ID\":geneID}, {\"$push\":{\"expression\":record}})\n",
    "    # print(record)"
   ]
  },
  {
   "cell_type": "code",
   "execution_count": 30,
   "metadata": {},
   "outputs": [],
   "source": [
    "expression_data_dict = expression_data.to_dict(orient='records')"
   ]
  },
  {
   "cell_type": "code",
   "execution_count": 31,
   "metadata": {},
   "outputs": [
    {
     "data": {
      "text/plain": [
       "{'Sample ID': 'BHN1HRQWBL',\n",
       " 'Gene ID': 'MEPQFQ9Z',\n",
       " 'Expression Level': 91.83,\n",
       " 'Condition': 'Cancer_Type_A'}"
      ]
     },
     "execution_count": 31,
     "metadata": {},
     "output_type": "execute_result"
    }
   ],
   "source": [
    "expression_data_dict[0]"
   ]
  },
  {
   "cell_type": "markdown",
   "metadata": {},
   "source": [
    "# SAMPLE"
   ]
  },
  {
   "cell_type": "code",
   "execution_count": 32,
   "metadata": {},
   "outputs": [
    {
     "data": {
      "text/html": [
       "<div>\n",
       "<style scoped>\n",
       "    .dataframe tbody tr th:only-of-type {\n",
       "        vertical-align: middle;\n",
       "    }\n",
       "\n",
       "    .dataframe tbody tr th {\n",
       "        vertical-align: top;\n",
       "    }\n",
       "\n",
       "    .dataframe thead th {\n",
       "        text-align: right;\n",
       "    }\n",
       "</style>\n",
       "<table border=\"1\" class=\"dataframe\">\n",
       "  <thead>\n",
       "    <tr style=\"text-align: right;\">\n",
       "      <th></th>\n",
       "      <th>Sample ID</th>\n",
       "      <th>Patient ID</th>\n",
       "      <th>Collection Date</th>\n",
       "      <th>Condition</th>\n",
       "      <th>Tissue Type</th>\n",
       "    </tr>\n",
       "  </thead>\n",
       "  <tbody>\n",
       "    <tr>\n",
       "      <th>0</th>\n",
       "      <td>BHN1HRQWBL</td>\n",
       "      <td>9UFVLTBI</td>\n",
       "      <td>5/4/2021</td>\n",
       "      <td>Cancer_Type_A</td>\n",
       "      <td>Blood</td>\n",
       "    </tr>\n",
       "    <tr>\n",
       "      <th>1</th>\n",
       "      <td>RO907Y9BQY</td>\n",
       "      <td>C9Z9VD5G</td>\n",
       "      <td>16/7/2021</td>\n",
       "      <td>Cancer_Type_A</td>\n",
       "      <td>Tissue</td>\n",
       "    </tr>\n",
       "    <tr>\n",
       "      <th>2</th>\n",
       "      <td>TYTH27KO5M</td>\n",
       "      <td>RZLYC6NZ</td>\n",
       "      <td>29/6/2022</td>\n",
       "      <td>Cancer_Type_B</td>\n",
       "      <td>Tissue</td>\n",
       "    </tr>\n",
       "    <tr>\n",
       "      <th>3</th>\n",
       "      <td>0LIP0B6TUM</td>\n",
       "      <td>29ULN150</td>\n",
       "      <td>10/4/2022</td>\n",
       "      <td>Cancer_Type_B</td>\n",
       "      <td>Blood</td>\n",
       "    </tr>\n",
       "    <tr>\n",
       "      <th>4</th>\n",
       "      <td>1RE2OFGVP7</td>\n",
       "      <td>Y1WFWH29</td>\n",
       "      <td>29/9/2021</td>\n",
       "      <td>Cancer_Type_B</td>\n",
       "      <td>Tissue</td>\n",
       "    </tr>\n",
       "  </tbody>\n",
       "</table>\n",
       "</div>"
      ],
      "text/plain": [
       "    Sample ID Patient ID Collection Date      Condition Tissue Type\n",
       "0  BHN1HRQWBL   9UFVLTBI        5/4/2021  Cancer_Type_A       Blood\n",
       "1  RO907Y9BQY   C9Z9VD5G       16/7/2021  Cancer_Type_A      Tissue\n",
       "2  TYTH27KO5M   RZLYC6NZ       29/6/2022  Cancer_Type_B      Tissue\n",
       "3  0LIP0B6TUM   29ULN150       10/4/2022  Cancer_Type_B       Blood\n",
       "4  1RE2OFGVP7   Y1WFWH29       29/9/2021  Cancer_Type_B      Tissue"
      ]
     },
     "execution_count": 32,
     "metadata": {},
     "output_type": "execute_result"
    }
   ],
   "source": [
    "sample_info = pd.read_csv('Sample_Information.csv')\n",
    "sample_info.head()"
   ]
  },
  {
   "cell_type": "code",
   "execution_count": 33,
   "metadata": {},
   "outputs": [],
   "source": [
    "sample_info_dict = sample_info.to_dict(orient='records')"
   ]
  },
  {
   "cell_type": "code",
   "execution_count": 34,
   "metadata": {},
   "outputs": [
    {
     "data": {
      "text/plain": [
       "{'Sample ID': 'BHN1HRQWBL',\n",
       " 'Patient ID': '9UFVLTBI',\n",
       " 'Collection Date': '5/4/2021',\n",
       " 'Condition': 'Cancer_Type_A',\n",
       " 'Tissue Type': 'Blood'}"
      ]
     },
     "execution_count": 34,
     "metadata": {},
     "output_type": "execute_result"
    }
   ],
   "source": [
    "sample_info_dict[0]"
   ]
  },
  {
   "cell_type": "code",
   "execution_count": 36,
   "metadata": {},
   "outputs": [
    {
     "data": {
      "text/html": [
       "<div>\n",
       "<style scoped>\n",
       "    .dataframe tbody tr th:only-of-type {\n",
       "        vertical-align: middle;\n",
       "    }\n",
       "\n",
       "    .dataframe tbody tr th {\n",
       "        vertical-align: top;\n",
       "    }\n",
       "\n",
       "    .dataframe thead th {\n",
       "        text-align: right;\n",
       "    }\n",
       "</style>\n",
       "<table border=\"1\" class=\"dataframe\">\n",
       "  <thead>\n",
       "    <tr style=\"text-align: right;\">\n",
       "      <th></th>\n",
       "      <th>Sample ID</th>\n",
       "      <th>Patient ID</th>\n",
       "      <th>Collection Date</th>\n",
       "      <th>Condition</th>\n",
       "      <th>Tissue Type</th>\n",
       "    </tr>\n",
       "  </thead>\n",
       "  <tbody>\n",
       "    <tr>\n",
       "      <th>4</th>\n",
       "      <td>1RE2OFGVP7</td>\n",
       "      <td>Y1WFWH29</td>\n",
       "      <td>29/9/2021</td>\n",
       "      <td>Cancer_Type_B</td>\n",
       "      <td>Tissue</td>\n",
       "    </tr>\n",
       "  </tbody>\n",
       "</table>\n",
       "</div>"
      ],
      "text/plain": [
       "    Sample ID Patient ID Collection Date      Condition Tissue Type\n",
       "4  1RE2OFGVP7   Y1WFWH29       29/9/2021  Cancer_Type_B      Tissue"
      ]
     },
     "execution_count": 36,
     "metadata": {},
     "output_type": "execute_result"
    }
   ],
   "source": [
    "sample_info[sample_info['Sample ID']== \"1RE2OFGVP7\"]"
   ]
  },
  {
   "cell_type": "code",
   "execution_count": 55,
   "metadata": {},
   "outputs": [],
   "source": [
    "res = sample_info[sample_info['Sample ID'] == \"1RE2OFGVP7\"]"
   ]
  },
  {
   "cell_type": "code",
   "execution_count": 56,
   "metadata": {},
   "outputs": [
    {
     "data": {
      "text/plain": [
       "[{'Sample ID': '1RE2OFGVP7',\n",
       "  'Patient ID': 'Y1WFWH29',\n",
       "  'Collection Date': '29/9/2021',\n",
       "  'Condition': 'Cancer_Type_B',\n",
       "  'Tissue Type': 'Tissue'}]"
      ]
     },
     "execution_count": 56,
     "metadata": {},
     "output_type": "execute_result"
    }
   ],
   "source": [
    "res.to_dict(orient = 'records')\n"
   ]
  },
  {
   "cell_type": "code",
   "execution_count": 57,
   "metadata": {},
   "outputs": [
    {
     "data": {
      "text/plain": [
       "{'Sample ID': '1RE2OFGVP7',\n",
       " 'Patient ID': 'Y1WFWH29',\n",
       " 'Collection Date': '29/9/2021',\n",
       " 'Condition': 'Cancer_Type_B',\n",
       " 'Tissue Type': 'Tissue'}"
      ]
     },
     "execution_count": 57,
     "metadata": {},
     "output_type": "execute_result"
    }
   ],
   "source": [
    "res.to_dict(orient = 'records') [0]"
   ]
  },
  {
   "cell_type": "code",
   "execution_count": 58,
   "metadata": {},
   "outputs": [],
   "source": [
    "expression_data_dict = expression_data.to_dict(orient='records') #\n",
    "\n",
    "for record in expression_data_dict:\n",
    "    #print(record['geneID])\n",
    "    geneID = record['Gene ID']\n",
    "    \n",
    "    # del record['Gene ID']\n",
    "   \n",
    "    #get sample id\n",
    "    sampleID = record['Sample ID']\n",
    "   \n",
    "    #extract data from drug info using sample id\n",
    "    res= sample_info[sample_info['Sample ID']== sampleID]\n",
    "    \n",
    "    #transform into dict format\n",
    "    result= res.to_dict(orient='records')   \n",
    "   \n",
    "    col.update_one({\"Gene ID\":geneID}, {\"$push\":{\"sample\":result}})\n",
    "    # print(record)"
   ]
  }
 ],
 "metadata": {
  "kernelspec": {
   "display_name": "base",
   "language": "python",
   "name": "python3"
  },
  "language_info": {
   "codemirror_mode": {
    "name": "ipython",
    "version": 3
   },
   "file_extension": ".py",
   "mimetype": "text/x-python",
   "name": "python",
   "nbconvert_exporter": "python",
   "pygments_lexer": "ipython3",
   "version": "3.11.5"
  }
 },
 "nbformat": 4,
 "nbformat_minor": 2
}
